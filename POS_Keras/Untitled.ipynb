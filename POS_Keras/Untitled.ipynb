{
 "cells": [
  {
   "cell_type": "code",
   "execution_count": 3,
   "metadata": {
    "collapsed": true
   },
   "outputs": [],
   "source": [
    "# Ensure reproducibility\n",
    "\n",
    "import numpy as np\n",
    "\n",
    "CUSTOM_SEED = 42\n",
    "np.random.seed(CUSTOM_SEED)"
   ]
  },
  {
   "cell_type": "code",
   "execution_count": 18,
   "metadata": {},
   "outputs": [
    {
     "name": "stdout",
     "output_type": "stream",
     "text": [
      "[nltk_data] Downloading package treebank to /home/linu/nltk_data...\n",
      "[nltk_data]   Package treebank is already up-to-date!\n",
      "[nltk_data] Downloading package maxent_treebank_pos_tagger to\n",
      "[nltk_data]     /home/linu/nltk_data...\n",
      "[nltk_data]   Unzipping taggers/maxent_treebank_pos_tagger.zip.\n"
     ]
    },
    {
     "data": {
      "text/plain": [
       "True"
      ]
     },
     "execution_count": 18,
     "metadata": {},
     "output_type": "execute_result"
    }
   ],
   "source": [
    "import nltk\n",
    "nltk.download('treebank')\n",
    "nltk.download('maxent_treebank_pos_tagger')"
   ]
  },
  {
   "cell_type": "code",
   "execution_count": 21,
   "metadata": {},
   "outputs": [
    {
     "name": "stdout",
     "output_type": "stream",
     "text": [
      "a random sentence: \n",
      "-> [('INTER-TEL', 'NNP'), ('Inc', 'NNP'), ('.', '.'), ('-LRB-', '-LRB-'), ('Chandler', 'NNP'), (',', ','), ('Ariz.', 'NNP'), ('-RRB-', '-RRB-'), ('--', ':')]\n"
     ]
    }
   ],
   "source": [
    "import random\n",
    "from nltk.corpus import treebank\n",
    "sentences = treebank.tagged_sents()\n",
    "print('a random sentence: \\n-> {}'.format(random.choice(sentences)))"
   ]
  },
  {
   "cell_type": "code",
   "execution_count": 22,
   "metadata": {},
   "outputs": [
    {
     "name": "stdout",
     "output_type": "stream",
     "text": [
      "nb_tags: 46\n",
      "tags: {',', 'SYM', 'DT', 'VBG', 'WDT', 'UH', '-NONE-', 'JJS', '-RRB-', 'VBN', 'PDT', 'VB', 'EX', 'PRP$', 'NNP', 'CC', '-LRB-', 'LS', 'VBZ', \"''\", '``', 'FW', 'NN', ':', 'JJR', 'VBD', '.', 'RBS', 'WP', 'NNS', 'PRP', '#', 'TO', 'POS', 'MD', 'WP$', 'JJ', 'RBR', 'RP', 'WRB', 'VBP', 'IN', 'NNPS', '$', 'RB', 'CD'}\n"
     ]
    }
   ],
   "source": [
    "tags = set([tag for sentence in treebank.tagged_sents() for _, tag in sentence])\n",
    "print('nb_tags: {}\\ntags: {}'.format(len(tags), tags))"
   ]
  },
  {
   "cell_type": "code",
   "execution_count": 23,
   "metadata": {
    "collapsed": true
   },
   "outputs": [],
   "source": [
    "train_test_cutoff = int(.80 * len(sentences)) \n",
    "training_sentences = sentences[:train_test_cutoff]\n",
    "testing_sentences = sentences[train_test_cutoff:]\n",
    " \n",
    "train_val_cutoff = int(.25 * len(training_sentences))\n",
    "validation_sentences = training_sentences[:train_val_cutoff]\n",
    "training_sentences = training_sentences[train_val_cutoff:]"
   ]
  },
  {
   "cell_type": "code",
   "execution_count": null,
   "metadata": {
    "collapsed": true
   },
   "outputs": [],
   "source": []
  }
 ],
 "metadata": {
  "kernelspec": {
   "display_name": "Python 3",
   "language": "python",
   "name": "python3"
  },
  "language_info": {
   "codemirror_mode": {
    "name": "ipython",
    "version": 3
   },
   "file_extension": ".py",
   "mimetype": "text/x-python",
   "name": "python",
   "nbconvert_exporter": "python",
   "pygments_lexer": "ipython3",
   "version": "3.5.3rc1"
  }
 },
 "nbformat": 4,
 "nbformat_minor": 2
}
