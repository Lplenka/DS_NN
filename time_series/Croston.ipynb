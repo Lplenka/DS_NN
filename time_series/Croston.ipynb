{
 "cells": [
  {
   "cell_type": "code",
   "execution_count": 1,
   "metadata": {},
   "outputs": [],
   "source": [
    "import numpy as np\n",
    "import random\n",
    "from croston import croston\n",
    "import matplotlib.pyplot as plt"
   ]
  },
  {
   "cell_type": "code",
   "execution_count": 2,
   "metadata": {},
   "outputs": [],
   "source": [
    "a = np.zeros(50)\n",
    "val = np.array(random.sample(range(100,200), 10))\n",
    "idxs = random.sample(range(50), 10)\n"
   ]
  },
  {
   "cell_type": "code",
   "execution_count": 4,
   "metadata": {},
   "outputs": [
    {
     "data": {
      "text/plain": [
       "array([199, 158, 156, 184, 134, 189, 135, 168, 124, 136])"
      ]
     },
     "execution_count": 4,
     "metadata": {},
     "output_type": "execute_result"
    }
   ],
   "source": [
    "val"
   ]
  },
  {
   "cell_type": "code",
   "execution_count": 5,
   "metadata": {},
   "outputs": [
    {
     "data": {
      "text/plain": [
       "[33, 43, 31, 14, 34, 46, 5, 25, 45, 3]"
      ]
     },
     "execution_count": 5,
     "metadata": {},
     "output_type": "execute_result"
    }
   ],
   "source": [
    "idxs"
   ]
  },
  {
   "cell_type": "code",
   "execution_count": 6,
   "metadata": {},
   "outputs": [],
   "source": [
    "\n",
    "ts = np.insert(a, idxs, val)\n"
   ]
  },
  {
   "cell_type": "code",
   "execution_count": 7,
   "metadata": {},
   "outputs": [
    {
     "data": {
      "text/plain": [
       "array([  0.,   0.,   0., 136.,   0.,   0., 135.,   0.,   0.,   0.,   0.,\n",
       "         0.,   0.,   0.,   0.,   0., 184.,   0.,   0.,   0.,   0.,   0.,\n",
       "         0.,   0.,   0.,   0.,   0.,   0., 168.,   0.,   0.,   0.,   0.,\n",
       "         0.,   0., 156.,   0.,   0., 199.,   0., 134.,   0.,   0.,   0.,\n",
       "         0.,   0.,   0.,   0.,   0.,   0., 158.,   0.,   0., 124.,   0.,\n",
       "       189.,   0.,   0.,   0.,   0.])"
      ]
     },
     "execution_count": 7,
     "metadata": {},
     "output_type": "execute_result"
    }
   ],
   "source": [
    "ts"
   ]
  },
  {
   "cell_type": "code",
   "execution_count": 8,
   "metadata": {},
   "outputs": [],
   "source": [
    "\n",
    "fit_pred = croston.fit_croston(ts, 10)\n",
    "\n",
    "yhat = np.concatenate([fit_pred['croston_fittedvalues'], fit_pred['croston_forecast']])\n",
    "\n"
   ]
  },
  {
   "cell_type": "code",
   "execution_count": 11,
   "metadata": {},
   "outputs": [
    {
     "data": {
      "text/plain": [
       "{'croston_fittedvalues': array([ 0.        ,  0.        ,  0.        , 24.72727228, 24.72727228,\n",
       "        24.72727228, 24.72727228, 24.72727228, 24.72727228, 24.72727228,\n",
       "        24.72727228, 24.72727228, 24.72727228, 24.72727228, 24.72727228,\n",
       "        24.72727228, 24.72727228, 24.72727228, 24.72727228, 24.72727228,\n",
       "        24.72727228, 24.72727228, 24.72727228, 24.72727228, 24.72727228,\n",
       "        24.72727228, 24.72727228, 24.72727228, 24.72727228, 24.72727228,\n",
       "        24.72727228, 24.72727228, 24.72727228, 24.72727228, 24.72727228,\n",
       "        24.72727228, 24.72727228, 24.72727228, 24.72727228, 24.72727228,\n",
       "        24.72727228, 24.72727228, 24.72727228, 24.72727228, 24.72727228,\n",
       "        24.72727228, 24.72727228, 24.72727228, 24.72727228, 24.72727228,\n",
       "        24.72727228, 24.72727228, 24.72727228, 24.72727228, 24.72727228,\n",
       "        24.72727228, 24.72727228, 24.72727228, 24.72727228, 24.72727228]),\n",
       " 'croston_forecast': array([24.72727228, 24.72727228, 24.72727228, 24.72727228, 24.72727228,\n",
       "        24.72727228, 24.72727228, 24.72727228, 24.72727228, 24.72727228]),\n",
       " 'croston_model': {'a_demand': 0.0,\n",
       "  'a_interval': 0.0,\n",
       "  'correction_factor': 1,\n",
       "  'demand_process': 0    24.7273\n",
       "  1    24.7273\n",
       "  2    24.7273\n",
       "  3    24.7273\n",
       "  4    24.7273\n",
       "  5    24.7273\n",
       "  6    24.7273\n",
       "  7    24.7273\n",
       "  8    24.7273\n",
       "  9    24.7273\n",
       "  dtype: object,\n",
       "  'demand_series': 0    136\n",
       "  1    136\n",
       "  2    136\n",
       "  3    136\n",
       "  4    136\n",
       "  5    136\n",
       "  6    136\n",
       "  7    136\n",
       "  8    136\n",
       "  9    136\n",
       "  dtype: object,\n",
       "  'interval_series': 0    5.5\n",
       "  1    5.5\n",
       "  2    5.5\n",
       "  3    5.5\n",
       "  4    5.5\n",
       "  5    5.5\n",
       "  6    5.5\n",
       "  7    5.5\n",
       "  8    5.5\n",
       "  9    5.5\n",
       "  dtype: object}}"
      ]
     },
     "execution_count": 11,
     "metadata": {},
     "output_type": "execute_result"
    }
   ],
   "source": [
    "fit_pred"
   ]
  },
  {
   "cell_type": "code",
   "execution_count": 9,
   "metadata": {},
   "outputs": [
    {
     "data": {
      "text/plain": [
       "[<matplotlib.lines.Line2D at 0x7fa2099b40f0>]"
      ]
     },
     "execution_count": 9,
     "metadata": {},
     "output_type": "execute_result"
    },
    {
     "data": {
      "image/png": "[encoded data removed]",
      "text/plain": [
       "<Figure size 432x288 with 1 Axes>"
      ]
     },
     "metadata": {},
     "output_type": "display_data"
    }
   ],
   "source": [
    "plt.plot(ts)\n",
    "plt.plot(yhat)"
   ]
  },
  {
   "cell_type": "code",
   "execution_count": null,
   "metadata": {},
   "outputs": [],
   "source": []
  }
 ],
 "metadata": {
  "kernelspec": {
   "display_name": "Python 3",
   "language": "python",
   "name": "python3"
  },
  "language_info": {
   "codemirror_mode": {
    "name": "ipython",
    "version": 3
   },
   "file_extension": ".py",
   "mimetype": "text/x-python",
   "name": "python",
   "nbconvert_exporter": "python",
   "pygments_lexer": "ipython3",
   "version": "3.5.2"
  }
 },
 "nbformat": 4,
 "nbformat_minor": 2
}
