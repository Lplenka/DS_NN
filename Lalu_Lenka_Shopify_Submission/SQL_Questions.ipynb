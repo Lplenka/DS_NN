{
 "cells": [
  {
   "cell_type": "markdown",
   "metadata": {},
   "source": [
    "### This notebook contains my answers to SQL questions"
   ]
  },
  {
   "cell_type": "markdown",
   "metadata": {},
   "source": [
    "## a) How many orders were shipped by Speedy Express in total?"
   ]
  },
  {
   "cell_type": "markdown",
   "metadata": {},
   "source": [
    "Answer: 54"
   ]
  },
  {
   "cell_type": "markdown",
   "metadata": {},
   "source": [
    "Query\n",
    "```\n",
    "SELECT count(*)\n",
    "FROM   (SELECT *\n",
    "        FROM   orders\n",
    "               LEFT JOIN shippers\n",
    "                      ON orders.shipperid = shippers.shipperid) A\n",
    "WHERE  A.shippername = 'Speedy Express'; \n",
    "```"
   ]
  },
  {
   "cell_type": "markdown",
   "metadata": {},
   "source": [
    "## b) What is the last name of the employee with the most orders?"
   ]
  },
  {
   "cell_type": "markdown",
   "metadata": {},
   "source": [
    "Answer: Peacock"
   ]
  },
  {
   "cell_type": "markdown",
   "metadata": {},
   "source": [
    "```\n",
    "SELECT lastname\n",
    "FROM   employees\n",
    "WHERE  employeeid = (SELECT employeeid\n",
    "                     FROM   (SELECT employeeid,\n",
    "                                    Count(*) AS counter\n",
    "                             FROM   (SELECT O.orderid,\n",
    "                                            O.employeeid,\n",
    "                                            O.orderdate,\n",
    "                                            E.lastname,\n",
    "                                            E.firstname\n",
    "                                     FROM   orders O\n",
    "                                            LEFT JOIN employees E\n",
    "                                                   ON O.employeeid =\n",
    "                                                      E.employeeid) A\n",
    "                             GROUP  BY employeeid\n",
    "                             ORDER  BY counter DESC\n",
    "                             LIMIT  1) B); \n",
    "\n",
    "```"
   ]
  },
  {
   "cell_type": "markdown",
   "metadata": {},
   "source": [
    "## c) What product was ordered the most by customers in Germany?"
   ]
  },
  {
   "cell_type": "markdown",
   "metadata": {},
   "source": [
    "Answer: Boston Crab Meat"
   ]
  },
  {
   "cell_type": "markdown",
   "metadata": {},
   "source": [
    "\n",
    "```\n",
    "SELECT productname\n",
    "FROM   products\n",
    "WHERE  productid = (SELECT productid\n",
    "                    FROM   (SELECT country,\n",
    "                                   productid,\n",
    "                                   Sum(quantity) AS totalquantity\n",
    "                            FROM   (SELECT c.customername,\n",
    "                                           c.country,\n",
    "                                           A.customerid,\n",
    "                                           A.productid,\n",
    "                                           A.quantity\n",
    "                                    FROM   (SELECT orr.customerid,\n",
    "                                                   od.productid,\n",
    "                                                   od.quantity\n",
    "                                            FROM   orders orr\n",
    "                                                   LEFT JOIN orderdetails od\n",
    "                                                          ON orr.orderid =\n",
    "                                                             od.orderid)\n",
    "                                           A\n",
    "                                           LEFT JOIN customers c\n",
    "                                                  ON\n",
    "                                   A.customerid = c.customerid) B\n",
    "                            GROUP  BY country,\n",
    "                                      productid\n",
    "                            ORDER  BY country ASC,\n",
    "                                      totalquantity DESC)C\n",
    "                    WHERE  country = 'Germany'\n",
    "                    LIMIT  1); \n",
    "```\n"
   ]
  },
  {
   "cell_type": "markdown",
   "metadata": {},
   "source": [
    "Here my answers are implemented using subqueries, but we can also use window commands like partition by, dense ranking etc. I look forward to discussing them in detail."
   ]
  },
  {
   "cell_type": "markdown",
   "metadata": {},
   "source": []
  }
 ],
 "metadata": {
  "language_info": {
   "name": "python"
  },
  "orig_nbformat": 4
 },
 "nbformat": 4,
 "nbformat_minor": 2
}
