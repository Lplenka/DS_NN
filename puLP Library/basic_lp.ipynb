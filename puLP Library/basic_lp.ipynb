{
 "cells": [
  {
   "cell_type": "markdown",
   "metadata": {},
   "source": [
    "# Transportation Problem in Pulp\n",
    "This examples shows how a transportation problem can be formulated and solved by PULP.\n",
    "The mathemetical model for a transportation problem is:\n",
    "$$ min \\sum_{i \\in M} \\sum_{i \\in N} c_{ij} x_{ij}$$\n",
    "Subject to:\n",
    "$$ \\sum_{j \\in W} x_{ij} = a_i \\quad \\forall \\quad i \\in D$$\n",
    "$$ \\sum_{i \\in D} x_{ij} = b_j \\quad \\forall \\quad j \\in W$$\n",
    "$$x_{ij} \\geq 0 \\quad \\forall \\quad i \\in D, j \\in W $$\n",
    "\n",
    "With\n",
    "\n",
    "W : Set of warehouses\n",
    "\n",
    "D : Set of depots\n",
    "\n"
   ]
  },
  {
   "cell_type": "markdown",
   "metadata": {},
   "source": [
    "First import the necessary libraries. Pulp is used to formulate and solve LP problems, numpy is used for matrix operations and itertools.product is used to iterate over a combination of sets"
   ]
  },
  {
   "cell_type": "code",
   "execution_count": 2,
   "metadata": {
    "collapsed": true
   },
   "outputs": [],
   "source": [
    "import pulp\n",
    "import numpy as np\n",
    "from itertools import product\n"
   ]
  },
  {
   "cell_type": "markdown",
   "metadata": {},
   "source": [
    "## Create model and define parameters\n",
    "First create the model as an LP minimize model"
   ]
  },
  {
   "cell_type": "code",
   "execution_count": 4,
   "metadata": {
    "collapsed": true
   },
   "outputs": [],
   "source": [
    "model = pulp.LpProblem('transportation_problem', pulp.LpMinimize)"
   ]
  },
  {
   "cell_type": "markdown",
   "metadata": {},
   "source": [
    "Create the sets D (depots) and W (Warehouses)"
   ]
  },
  {
   "cell_type": "code",
   "execution_count": 5,
   "metadata": {
    "collapsed": true
   },
   "outputs": [],
   "source": [
    "amount_depots = 3\n",
    "amount_warehouses = 2\n",
    "set_D = range(amount_depots)\n",
    "set_W = range(amount_warehouses)\n"
   ]
  },
  {
   "cell_type": "code",
   "execution_count": 7,
   "metadata": {},
   "outputs": [
    {
     "data": {
      "text/plain": [
       "range"
      ]
     },
     "execution_count": 7,
     "metadata": {},
     "output_type": "execute_result"
    }
   ],
   "source": [
    "type(set_D)"
   ]
  },
  {
   "cell_type": "markdown",
   "metadata": {},
   "source": [
    "Create the variable x for all combinations of sets D and W. The function product() uses collections (sets, ranges etc) as input and outputs all combinations. This can be used to program 'forall' and 'sum' functions. The category is integer. Other options are Binary and Continuous (Default)"
   ]
  },
  {
   "cell_type": "code",
   "execution_count": 8,
   "metadata": {
    "collapsed": true
   },
   "outputs": [],
   "source": [
    "x  = pulp.LpVariable.dicts('x',((i,j) for i,j in product(set_D,set_W)),cat='Integer')"
   ]
  },
  {
   "cell_type": "code",
   "execution_count": 9,
   "metadata": {},
   "outputs": [
    {
     "data": {
      "text/plain": [
       "{(0, 0): x_(0,_0),\n",
       " (0, 1): x_(0,_1),\n",
       " (1, 0): x_(1,_0),\n",
       " (1, 1): x_(1,_1),\n",
       " (2, 0): x_(2,_0),\n",
       " (2, 1): x_(2,_1)}"
      ]
     },
     "execution_count": 9,
     "metadata": {},
     "output_type": "execute_result"
    }
   ],
   "source": [
    "x"
   ]
  },
  {
   "cell_type": "markdown",
   "metadata": {},
   "source": [
    "Create the cost matrix, capacities and demands"
   ]
  },
  {
   "cell_type": "code",
   "execution_count": 6,
   "metadata": {},
   "outputs": [
    {
     "name": "stdout",
     "output_type": "stream",
     "text": [
      "Cost Matrix:\n",
      "[[1 2]\n",
      " [4 5]\n",
      " [6 3]]\n"
     ]
    }
   ],
   "source": [
    "a = [5,6,5] #Capacities of depots\n",
    "b = [7,9] # Demands of warehouses\n",
    "c = np.matrix(([1,2],[4,5],[6,3])) #Cost matrix\n",
    "print('Cost Matrix:')\n",
    "print(c)\n"
   ]
  },
  {
   "cell_type": "markdown",
   "metadata": {},
   "source": [
    "## Add cost function and constraints\n",
    "The first equation added to the model is the cost equation. Equations added after that are seen as constraints.\n",
    "The cost function is:\n",
    "$$ min \\sum_{i \\in M} \\sum_{i \\in N} c_{ij} x_{ij}$$\n",
    "The double sum is created by using the function pulp.lpSum to define that a sum has to be taken and itertools.product to get all combinations."
   ]
  },
  {
   "cell_type": "code",
   "execution_count": 7,
   "metadata": {
    "collapsed": true
   },
   "outputs": [],
   "source": [
    "model += pulp.lpSum(c[i,j]*x[i,j] for i,j in product(set_D,set_W))"
   ]
  },
  {
   "cell_type": "markdown",
   "metadata": {},
   "source": [
    "Total depots capacity constraint:\n",
    "$$ \\sum_{j \\in W} x_{ij} = a_i \\quad \\forall \\quad i \\in D$$\n",
    "\n",
    "Note that forall's are done by a loop and sums are done by pulp.lpSum"
   ]
  },
  {
   "cell_type": "code",
   "execution_count": 8,
   "metadata": {
    "collapsed": true
   },
   "outputs": [],
   "source": [
    "for i in set_D:\n",
    "    model += pulp.lpSum(x[i,j] for j in set_W) == a[i]\n",
    "    \n",
    "    "
   ]
  },
  {
   "cell_type": "markdown",
   "metadata": {},
   "source": [
    "Total warehouse demand constraint:\n",
    "$$ \\sum_{i \\in D} x_{ij} = b_j \\quad \\forall \\quad j \\in W$$"
   ]
  },
  {
   "cell_type": "code",
   "execution_count": 9,
   "metadata": {
    "collapsed": true
   },
   "outputs": [],
   "source": [
    "for j in set_W:\n",
    "    model += pulp.lpSum(x[i,j] for i in set_D) == b[j]"
   ]
  },
  {
   "cell_type": "markdown",
   "metadata": {},
   "source": [
    "Larger than 0 constraint:\n",
    "$$x_{ij} \\geq 0 \\quad \\forall \\quad i \\in M, j \\in N $$\n"
   ]
  },
  {
   "cell_type": "code",
   "execution_count": 10,
   "metadata": {
    "collapsed": true
   },
   "outputs": [],
   "source": [
    "for i,j in product(set_D,set_W):\n",
    "    model += x[i,j] >= 0"
   ]
  },
  {
   "cell_type": "markdown",
   "metadata": {},
   "source": [
    "## Solve and view result\n",
    "Now solve the model. Pulp is able to connect to multiple solvers. Here the CPLEX python api is used if available. If not it uses the standard pulp solver"
   ]
  },
  {
   "cell_type": "code",
   "execution_count": 11,
   "metadata": {},
   "outputs": [
    {
     "name": "stdout",
     "output_type": "stream",
     "text": [
      "CPXPARAM_Read_DataCheck                          1\n",
      "CPXPARAM_Read_APIEncoding                        \"UTF-8\"\n",
      "CPXPARAM_MIP_Strategy_CallbackReducedLP          0\n",
      "Found incumbent of value 48.000000 after 0.00 sec. (0.00 ticks)\n",
      "Tried aggregator 2 times.\n",
      "MIP Presolve eliminated 8 rows and 3 columns.\n",
      "Aggregator did 3 substitutions.\n",
      "All rows and columns eliminated.\n",
      "Presolve time = 0.01 sec. (0.01 ticks)\n",
      "\n",
      "Root node processing (before b&c):\n",
      "  Real time             =    0.01 sec. (0.02 ticks)\n",
      "Parallel b&c, 4 threads:\n",
      "  Real time             =    0.00 sec. (0.00 ticks)\n",
      "  Sync time (average)   =    0.00 sec.\n",
      "  Wait time (average)   =    0.00 sec.\n",
      "                          ------------\n",
      "Total (root+branch&cut) =    0.01 sec. (0.02 ticks)\n",
      "Cplex status= 101\n",
      "Solved by CPlex with a deterministic time (ticks) of 0.01743030548095703\n"
     ]
    }
   ],
   "source": [
    "if(pulp.solvers.CPLEX_PY().available()):\n",
    "    model.solve(pulp.solvers.CPLEX_PY())\n",
    "    #The api can be called directly by adressing solverModel. This makes it possible to include solve specific functions.\n",
    "    #For example, the deterministic time of cplex can be accessed by:\n",
    "    detTime = model.solverModel.get_dettime()\n",
    "    print('Solved by CPlex with a deterministic time (ticks) of %s' % detTime)\n",
    "else:\n",
    "    model.solve()\n",
    "    print('Solved by PULPs standard solver. Free, but slower than most commercial solvers')"
   ]
  },
  {
   "cell_type": "markdown",
   "metadata": {},
   "source": [
    "View the solution:"
   ]
  },
  {
   "cell_type": "code",
   "execution_count": 12,
   "metadata": {},
   "outputs": [
    {
     "name": "stdout",
     "output_type": "stream",
     "text": [
      "Lowest cost found: 48.0\n",
      "[[ 5.  0.]\n",
      " [ 2.  4.]\n",
      " [ 0.  5.]]\n"
     ]
    }
   ],
   "source": [
    "if(model.status == 1):\n",
    "    objective = model.objective\n",
    "    print('Lowest cost found: %s' % pulp.value(objective))\n",
    "    \n",
    "    #Put result into numpy matrix\n",
    "    x_result = np.zeros((amount_depots,amount_warehouses))\n",
    "    for i,j in product(set_D,set_W):\n",
    "        x_result[i,j] = x[i,j].varValue\n",
    "        \n",
    "    print(x_result)\n"
   ]
  }
 ],
 "metadata": {
  "kernelspec": {
   "display_name": "Python 3",
   "language": "python",
   "name": "python3"
  },
  "language_info": {
   "codemirror_mode": {
    "name": "ipython",
    "version": 3
   },
   "file_extension": ".py",
   "mimetype": "text/x-python",
   "name": "python",
   "nbconvert_exporter": "python",
   "pygments_lexer": "ipython3",
   "version": "3.5.3rc1"
  }
 },
 "nbformat": 4,
 "nbformat_minor": 2
}
