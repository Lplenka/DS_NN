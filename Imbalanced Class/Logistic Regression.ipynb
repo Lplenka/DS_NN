{
 "cells": [
  {
   "cell_type": "code",
   "execution_count": 73,
   "metadata": {},
   "outputs": [],
   "source": [
    "import os"
   ]
  },
  {
   "cell_type": "code",
   "execution_count": 74,
   "metadata": {},
   "outputs": [
    {
     "data": {
      "text/plain": [
       "['Untitled.ipynb',\n",
       " 'uva2.csv',\n",
       " 'uva1.csv',\n",
       " 'Untitled (1).ipynb',\n",
       " '.ipynb_checkpoints',\n",
       " 'USECASE.docx']"
      ]
     },
     "execution_count": 74,
     "metadata": {},
     "output_type": "execute_result"
    }
   ],
   "source": [
    "os.listdir(\".\")"
   ]
  },
  {
   "cell_type": "code",
   "execution_count": 75,
   "metadata": {},
   "outputs": [],
   "source": [
    "import pandas as pd"
   ]
  },
  {
   "cell_type": "code",
   "execution_count": 76,
   "metadata": {},
   "outputs": [],
   "source": [
    "df1 = pd.read_csv(\"uva1.csv\")"
   ]
  },
  {
   "cell_type": "code",
   "execution_count": 77,
   "metadata": {},
   "outputs": [
    {
     "data": {
      "text/html": [
       "<div>\n",
       "<style scoped>\n",
       "    .dataframe tbody tr th:only-of-type {\n",
       "        vertical-align: middle;\n",
       "    }\n",
       "\n",
       "    .dataframe tbody tr th {\n",
       "        vertical-align: top;\n",
       "    }\n",
       "\n",
       "    .dataframe thead th {\n",
       "        text-align: right;\n",
       "    }\n",
       "</style>\n",
       "<table border=\"1\" class=\"dataframe\">\n",
       "  <thead>\n",
       "    <tr style=\"text-align: right;\">\n",
       "      <th></th>\n",
       "      <th>Newbie</th>\n",
       "      <th>Age</th>\n",
       "      <th>Household Income (Numeric)</th>\n",
       "      <th>Years on Internet (numeric)</th>\n",
       "      <th>Unnamed: 13</th>\n",
       "    </tr>\n",
       "  </thead>\n",
       "  <tbody>\n",
       "    <tr>\n",
       "      <th>count</th>\n",
       "      <td>19583.000000</td>\n",
       "      <td>19022.000000</td>\n",
       "      <td>19583.000000</td>\n",
       "      <td>19583.000000</td>\n",
       "      <td>0.0</td>\n",
       "    </tr>\n",
       "    <tr>\n",
       "      <th>mean</th>\n",
       "      <td>0.253383</td>\n",
       "      <td>35.222269</td>\n",
       "      <td>4.212582</td>\n",
       "      <td>3.040801</td>\n",
       "      <td>NaN</td>\n",
       "    </tr>\n",
       "    <tr>\n",
       "      <th>std</th>\n",
       "      <td>0.434959</td>\n",
       "      <td>12.642339</td>\n",
       "      <td>2.603628</td>\n",
       "      <td>1.108191</td>\n",
       "      <td>NaN</td>\n",
       "    </tr>\n",
       "    <tr>\n",
       "      <th>min</th>\n",
       "      <td>0.000000</td>\n",
       "      <td>5.000000</td>\n",
       "      <td>0.000000</td>\n",
       "      <td>1.000000</td>\n",
       "      <td>NaN</td>\n",
       "    </tr>\n",
       "    <tr>\n",
       "      <th>25%</th>\n",
       "      <td>0.000000</td>\n",
       "      <td>25.000000</td>\n",
       "      <td>2.000000</td>\n",
       "      <td>2.000000</td>\n",
       "      <td>NaN</td>\n",
       "    </tr>\n",
       "    <tr>\n",
       "      <th>50%</th>\n",
       "      <td>0.000000</td>\n",
       "      <td>33.000000</td>\n",
       "      <td>5.000000</td>\n",
       "      <td>3.000000</td>\n",
       "      <td>NaN</td>\n",
       "    </tr>\n",
       "    <tr>\n",
       "      <th>75%</th>\n",
       "      <td>1.000000</td>\n",
       "      <td>44.000000</td>\n",
       "      <td>6.000000</td>\n",
       "      <td>4.000000</td>\n",
       "      <td>NaN</td>\n",
       "    </tr>\n",
       "    <tr>\n",
       "      <th>max</th>\n",
       "      <td>1.000000</td>\n",
       "      <td>80.000000</td>\n",
       "      <td>8.000000</td>\n",
       "      <td>5.000000</td>\n",
       "      <td>NaN</td>\n",
       "    </tr>\n",
       "  </tbody>\n",
       "</table>\n",
       "</div>"
      ],
      "text/plain": [
       "             Newbie           Age  Household Income (Numeric)  \\\n",
       "count  19583.000000  19022.000000                19583.000000   \n",
       "mean       0.253383     35.222269                    4.212582   \n",
       "std        0.434959     12.642339                    2.603628   \n",
       "min        0.000000      5.000000                    0.000000   \n",
       "25%        0.000000     25.000000                    2.000000   \n",
       "50%        0.000000     33.000000                    5.000000   \n",
       "75%        1.000000     44.000000                    6.000000   \n",
       "max        1.000000     80.000000                    8.000000   \n",
       "\n",
       "       Years on Internet (numeric)  Unnamed: 13  \n",
       "count                 19583.000000          0.0  \n",
       "mean                      3.040801          NaN  \n",
       "std                       1.108191          NaN  \n",
       "min                       1.000000          NaN  \n",
       "25%                       2.000000          NaN  \n",
       "50%                       3.000000          NaN  \n",
       "75%                       4.000000          NaN  \n",
       "max                       5.000000          NaN  "
      ]
     },
     "execution_count": 77,
     "metadata": {},
     "output_type": "execute_result"
    }
   ],
   "source": [
    "df1.describe()"
   ]
  },
  {
   "cell_type": "code",
   "execution_count": 78,
   "metadata": {},
   "outputs": [
    {
     "data": {
      "text/plain": [
       "Text(0.5,1,'Correlation Coefficients All')"
      ]
     },
     "execution_count": 78,
     "metadata": {},
     "output_type": "execute_result"
    },
    {
     "data": {
      "image/png": "[encoded data removed]",
      "text/plain": [
       "<matplotlib.figure.Figure at 0x7f61d5f9f278>"
      ]
     },
     "metadata": {},
     "output_type": "display_data"
    }
   ],
   "source": [
    "# Let's start the visualization by having a look at the correlation coefficients\n",
    "import matplotlib.pyplot as plt\n",
    "plt.figure(figsize=(8,8))\n",
    "sns.heatmap(data=df1.corr(), annot=True, cmap='viridis')\n",
    "plt.title('Correlation Coefficients All')"
   ]
  },
  {
   "cell_type": "code",
   "execution_count": null,
   "metadata": {},
   "outputs": [],
   "source": []
  },
  {
   "cell_type": "code",
   "execution_count": 79,
   "metadata": {},
   "outputs": [
    {
     "data": {
      "text/plain": [
       "561"
      ]
     },
     "execution_count": 79,
     "metadata": {},
     "output_type": "execute_result"
    }
   ],
   "source": [
    "sum(df1[\"Age\"].isnull() == True)"
   ]
  },
  {
   "cell_type": "code",
   "execution_count": 80,
   "metadata": {},
   "outputs": [
    {
     "data": {
      "text/plain": [
       "Index(['who', 'Newbie', 'Age', 'Gender', 'Household Income (Numeric)',\n",
       "       'Household Income', 'Sexual Preference', 'Country',\n",
       "       'Education Attainment', 'Major Occupation', 'Marital Status',\n",
       "       'Years on Internet (numeric)', 'Years on Internet', 'Unnamed: 13'],\n",
       "      dtype='object')"
      ]
     },
     "execution_count": 80,
     "metadata": {},
     "output_type": "execute_result"
    }
   ],
   "source": [
    "df1.columns"
   ]
  },
  {
   "cell_type": "code",
   "execution_count": 81,
   "metadata": {},
   "outputs": [
    {
     "data": {
      "text/html": [
       "<div>\n",
       "<style scoped>\n",
       "    .dataframe tbody tr th:only-of-type {\n",
       "        vertical-align: middle;\n",
       "    }\n",
       "\n",
       "    .dataframe tbody tr th {\n",
       "        vertical-align: top;\n",
       "    }\n",
       "\n",
       "    .dataframe thead th {\n",
       "        text-align: right;\n",
       "    }\n",
       "</style>\n",
       "<table border=\"1\" class=\"dataframe\">\n",
       "  <thead>\n",
       "    <tr style=\"text-align: right;\">\n",
       "      <th></th>\n",
       "      <th>who</th>\n",
       "      <th>Newbie</th>\n",
       "      <th>Age</th>\n",
       "      <th>Gender</th>\n",
       "      <th>Household Income (Numeric)</th>\n",
       "      <th>Household Income</th>\n",
       "      <th>Sexual Preference</th>\n",
       "      <th>Country</th>\n",
       "      <th>Education Attainment</th>\n",
       "      <th>Major Occupation</th>\n",
       "      <th>Marital Status</th>\n",
       "      <th>Years on Internet (numeric)</th>\n",
       "      <th>Years on Internet</th>\n",
       "      <th>Unnamed: 13</th>\n",
       "    </tr>\n",
       "  </thead>\n",
       "  <tbody>\n",
       "    <tr>\n",
       "      <th>0</th>\n",
       "      <td>id74364</td>\n",
       "      <td>0</td>\n",
       "      <td>54.0</td>\n",
       "      <td>Male</td>\n",
       "      <td>6</td>\n",
       "      <td>$50-74</td>\n",
       "      <td>Gay male</td>\n",
       "      <td>Ontario</td>\n",
       "      <td>Some College</td>\n",
       "      <td>Computer</td>\n",
       "      <td>Other</td>\n",
       "      <td>4</td>\n",
       "      <td>4-6 yr</td>\n",
       "      <td>NaN</td>\n",
       "    </tr>\n",
       "    <tr>\n",
       "      <th>1</th>\n",
       "      <td>id84505</td>\n",
       "      <td>0</td>\n",
       "      <td>39.0</td>\n",
       "      <td>Female</td>\n",
       "      <td>8</td>\n",
       "      <td>Over $100</td>\n",
       "      <td>Heterosexual</td>\n",
       "      <td>Sweden</td>\n",
       "      <td>Professional</td>\n",
       "      <td>Other</td>\n",
       "      <td>Other</td>\n",
       "      <td>3</td>\n",
       "      <td>1-3 yr</td>\n",
       "      <td>NaN</td>\n",
       "    </tr>\n",
       "    <tr>\n",
       "      <th>2</th>\n",
       "      <td>id84509</td>\n",
       "      <td>1</td>\n",
       "      <td>49.0</td>\n",
       "      <td>Female</td>\n",
       "      <td>5</td>\n",
       "      <td>$40-49</td>\n",
       "      <td>Heterosexual</td>\n",
       "      <td>Washington</td>\n",
       "      <td>Some College</td>\n",
       "      <td>Management</td>\n",
       "      <td>Other</td>\n",
       "      <td>1</td>\n",
       "      <td>Under 6 mo</td>\n",
       "      <td>NaN</td>\n",
       "    </tr>\n",
       "    <tr>\n",
       "      <th>3</th>\n",
       "      <td>id87028</td>\n",
       "      <td>1</td>\n",
       "      <td>22.0</td>\n",
       "      <td>Female</td>\n",
       "      <td>5</td>\n",
       "      <td>$40-49</td>\n",
       "      <td>Heterosexual</td>\n",
       "      <td>Florida</td>\n",
       "      <td>Some College</td>\n",
       "      <td>Computer</td>\n",
       "      <td>Married</td>\n",
       "      <td>2</td>\n",
       "      <td>6-12 mo</td>\n",
       "      <td>NaN</td>\n",
       "    </tr>\n",
       "    <tr>\n",
       "      <th>4</th>\n",
       "      <td>id76087</td>\n",
       "      <td>0</td>\n",
       "      <td>20.0</td>\n",
       "      <td>Male</td>\n",
       "      <td>4</td>\n",
       "      <td>$30-39</td>\n",
       "      <td>Bisexual</td>\n",
       "      <td>New Jersey</td>\n",
       "      <td>Some College</td>\n",
       "      <td>Education</td>\n",
       "      <td>Single</td>\n",
       "      <td>3</td>\n",
       "      <td>1-3 yr</td>\n",
       "      <td>NaN</td>\n",
       "    </tr>\n",
       "  </tbody>\n",
       "</table>\n",
       "</div>"
      ],
      "text/plain": [
       "       who  Newbie   Age  Gender  Household Income (Numeric) Household Income  \\\n",
       "0  id74364       0  54.0    Male                           6           $50-74   \n",
       "1  id84505       0  39.0  Female                           8        Over $100   \n",
       "2  id84509       1  49.0  Female                           5           $40-49   \n",
       "3  id87028       1  22.0  Female                           5           $40-49   \n",
       "4  id76087       0  20.0    Male                           4           $30-39   \n",
       "\n",
       "  Sexual Preference     Country Education Attainment Major Occupation  \\\n",
       "0          Gay male     Ontario         Some College         Computer   \n",
       "1      Heterosexual      Sweden         Professional            Other   \n",
       "2      Heterosexual  Washington         Some College       Management   \n",
       "3      Heterosexual     Florida         Some College         Computer   \n",
       "4          Bisexual  New Jersey         Some College        Education   \n",
       "\n",
       "  Marital Status  Years on Internet (numeric) Years on Internet  Unnamed: 13  \n",
       "0          Other                            4            4-6 yr          NaN  \n",
       "1          Other                            3            1-3 yr          NaN  \n",
       "2          Other                            1        Under 6 mo          NaN  \n",
       "3        Married                            2           6-12 mo          NaN  \n",
       "4         Single                            3            1-3 yr          NaN  "
      ]
     },
     "execution_count": 81,
     "metadata": {},
     "output_type": "execute_result"
    }
   ],
   "source": [
    "df1.head()"
   ]
  },
  {
   "cell_type": "code",
   "execution_count": 82,
   "metadata": {},
   "outputs": [
    {
     "data": {
      "text/plain": [
       "who                                0\n",
       "Newbie                             0\n",
       "Age                              561\n",
       "Gender                             0\n",
       "Household Income (Numeric)         0\n",
       "Household Income                3185\n",
       "Sexual Preference               1292\n",
       "Country                            0\n",
       "Education Attainment               0\n",
       "Major Occupation                   0\n",
       "Marital Status                   343\n",
       "Years on Internet (numeric)        0\n",
       "Years on Internet                  0\n",
       "Unnamed: 13                    19583\n",
       "dtype: int64"
      ]
     },
     "execution_count": 82,
     "metadata": {},
     "output_type": "execute_result"
    }
   ],
   "source": [
    "df1.apply(lambda x: sum(x.isnull()))"
   ]
  },
  {
   "cell_type": "code",
   "execution_count": 83,
   "metadata": {},
   "outputs": [
    {
     "data": {
      "text/plain": [
       "who                             object\n",
       "Newbie                           int64\n",
       "Age                            float64\n",
       "Gender                          object\n",
       "Household Income (Numeric)       int64\n",
       "Household Income                object\n",
       "Sexual Preference               object\n",
       "Country                         object\n",
       "Education Attainment            object\n",
       "Major Occupation                object\n",
       "Marital Status                  object\n",
       "Years on Internet (numeric)      int64\n",
       "Years on Internet               object\n",
       "Unnamed: 13                    float64\n",
       "dtype: object"
      ]
     },
     "execution_count": 83,
     "metadata": {},
     "output_type": "execute_result"
    }
   ],
   "source": [
    "df1.dtypes"
   ]
  },
  {
   "cell_type": "code",
   "execution_count": 84,
   "metadata": {},
   "outputs": [],
   "source": [
    "df1.Age.dropna(inplace=True)"
   ]
  },
  {
   "cell_type": "code",
   "execution_count": 85,
   "metadata": {},
   "outputs": [
    {
     "data": {
      "text/plain": [
       "0"
      ]
     },
     "execution_count": 85,
     "metadata": {},
     "output_type": "execute_result"
    }
   ],
   "source": [
    "sum(df1.Age.isnull())"
   ]
  },
  {
   "cell_type": "code",
   "execution_count": 86,
   "metadata": {},
   "outputs": [],
   "source": [
    "df1[\"Marital Status\"].dropna(inplace=True)"
   ]
  },
  {
   "cell_type": "code",
   "execution_count": 87,
   "metadata": {},
   "outputs": [
    {
     "data": {
      "text/plain": [
       "0"
      ]
     },
     "execution_count": 87,
     "metadata": {},
     "output_type": "execute_result"
    }
   ],
   "source": [
    "sum(df1[\"Marital Status\"].isnull())"
   ]
  },
  {
   "cell_type": "code",
   "execution_count": 88,
   "metadata": {},
   "outputs": [],
   "source": [
    "select_country = [\"Michigan\",\"New York\",\"Alabama\"]\n",
    "dfs = df1.loc[df1['Country'].isin(select_country)]"
   ]
  },
  {
   "cell_type": "code",
   "execution_count": 89,
   "metadata": {},
   "outputs": [
    {
     "data": {
      "text/plain": [
       "(1497, 14)"
      ]
     },
     "execution_count": 89,
     "metadata": {},
     "output_type": "execute_result"
    }
   ],
   "source": [
    "dfs.shape"
   ]
  },
  {
   "cell_type": "code",
   "execution_count": 90,
   "metadata": {},
   "outputs": [],
   "source": [
    "dfNonNumeric=dfs._get_numeric_data()\n",
    "    "
   ]
  },
  {
   "cell_type": "code",
   "execution_count": 91,
   "metadata": {},
   "outputs": [
    {
     "data": {
      "text/html": [
       "<div>\n",
       "<style scoped>\n",
       "    .dataframe tbody tr th:only-of-type {\n",
       "        vertical-align: middle;\n",
       "    }\n",
       "\n",
       "    .dataframe tbody tr th {\n",
       "        vertical-align: top;\n",
       "    }\n",
       "\n",
       "    .dataframe thead th {\n",
       "        text-align: right;\n",
       "    }\n",
       "</style>\n",
       "<table border=\"1\" class=\"dataframe\">\n",
       "  <thead>\n",
       "    <tr style=\"text-align: right;\">\n",
       "      <th></th>\n",
       "      <th>who</th>\n",
       "      <th>Newbie</th>\n",
       "      <th>Age</th>\n",
       "      <th>Gender</th>\n",
       "      <th>Household Income (Numeric)</th>\n",
       "      <th>Household Income</th>\n",
       "      <th>Sexual Preference</th>\n",
       "      <th>Country</th>\n",
       "      <th>Education Attainment</th>\n",
       "      <th>Major Occupation</th>\n",
       "      <th>Marital Status</th>\n",
       "      <th>Years on Internet (numeric)</th>\n",
       "      <th>Years on Internet</th>\n",
       "      <th>Unnamed: 13</th>\n",
       "    </tr>\n",
       "  </thead>\n",
       "  <tbody>\n",
       "    <tr>\n",
       "      <th>5</th>\n",
       "      <td>id77190</td>\n",
       "      <td>0</td>\n",
       "      <td>16.0</td>\n",
       "      <td>Male</td>\n",
       "      <td>0</td>\n",
       "      <td>NaN</td>\n",
       "      <td>Heterosexual</td>\n",
       "      <td>New York</td>\n",
       "      <td>Grammar</td>\n",
       "      <td>Education</td>\n",
       "      <td>Single</td>\n",
       "      <td>3</td>\n",
       "      <td>1-3 yr</td>\n",
       "      <td>NaN</td>\n",
       "    </tr>\n",
       "    <tr>\n",
       "      <th>12</th>\n",
       "      <td>id87146</td>\n",
       "      <td>1</td>\n",
       "      <td>42.0</td>\n",
       "      <td>Male</td>\n",
       "      <td>6</td>\n",
       "      <td>$50-74</td>\n",
       "      <td>Heterosexual</td>\n",
       "      <td>Michigan</td>\n",
       "      <td>Some College</td>\n",
       "      <td>Management</td>\n",
       "      <td>Married</td>\n",
       "      <td>2</td>\n",
       "      <td>6-12 mo</td>\n",
       "      <td>NaN</td>\n",
       "    </tr>\n",
       "    <tr>\n",
       "      <th>43</th>\n",
       "      <td>id84540</td>\n",
       "      <td>0</td>\n",
       "      <td>54.0</td>\n",
       "      <td>Female</td>\n",
       "      <td>7</td>\n",
       "      <td>$75-99</td>\n",
       "      <td>Heterosexual</td>\n",
       "      <td>New York</td>\n",
       "      <td>Doctoral</td>\n",
       "      <td>Education</td>\n",
       "      <td>Married</td>\n",
       "      <td>3</td>\n",
       "      <td>1-3 yr</td>\n",
       "      <td>NaN</td>\n",
       "    </tr>\n",
       "    <tr>\n",
       "      <th>54</th>\n",
       "      <td>id85442</td>\n",
       "      <td>0</td>\n",
       "      <td>27.0</td>\n",
       "      <td>Male</td>\n",
       "      <td>3</td>\n",
       "      <td>$20-29</td>\n",
       "      <td>Heterosexual</td>\n",
       "      <td>Michigan</td>\n",
       "      <td>Masters</td>\n",
       "      <td>Management</td>\n",
       "      <td>Single</td>\n",
       "      <td>5</td>\n",
       "      <td>Over 7 yr</td>\n",
       "      <td>NaN</td>\n",
       "    </tr>\n",
       "    <tr>\n",
       "      <th>81</th>\n",
       "      <td>id73540</td>\n",
       "      <td>1</td>\n",
       "      <td>35.0</td>\n",
       "      <td>Male</td>\n",
       "      <td>2</td>\n",
       "      <td>$10-19</td>\n",
       "      <td>Heterosexual</td>\n",
       "      <td>New York</td>\n",
       "      <td>Special</td>\n",
       "      <td>Other</td>\n",
       "      <td>Other</td>\n",
       "      <td>2</td>\n",
       "      <td>6-12 mo</td>\n",
       "      <td>NaN</td>\n",
       "    </tr>\n",
       "  </tbody>\n",
       "</table>\n",
       "</div>"
      ],
      "text/plain": [
       "        who  Newbie   Age  Gender  Household Income (Numeric)  \\\n",
       "5   id77190       0  16.0    Male                           0   \n",
       "12  id87146       1  42.0    Male                           6   \n",
       "43  id84540       0  54.0  Female                           7   \n",
       "54  id85442       0  27.0    Male                           3   \n",
       "81  id73540       1  35.0    Male                           2   \n",
       "\n",
       "   Household Income Sexual Preference   Country Education Attainment  \\\n",
       "5               NaN      Heterosexual  New York              Grammar   \n",
       "12           $50-74      Heterosexual  Michigan         Some College   \n",
       "43           $75-99      Heterosexual  New York             Doctoral   \n",
       "54           $20-29      Heterosexual  Michigan              Masters   \n",
       "81           $10-19      Heterosexual  New York              Special   \n",
       "\n",
       "   Major Occupation Marital Status  Years on Internet (numeric)  \\\n",
       "5         Education         Single                            3   \n",
       "12       Management        Married                            2   \n",
       "43        Education        Married                            3   \n",
       "54       Management         Single                            5   \n",
       "81            Other          Other                            2   \n",
       "\n",
       "   Years on Internet  Unnamed: 13  \n",
       "5             1-3 yr          NaN  \n",
       "12           6-12 mo          NaN  \n",
       "43            1-3 yr          NaN  \n",
       "54         Over 7 yr          NaN  \n",
       "81           6-12 mo          NaN  "
      ]
     },
     "execution_count": 91,
     "metadata": {},
     "output_type": "execute_result"
    }
   ],
   "source": [
    "dfs.head()"
   ]
  },
  {
   "cell_type": "code",
   "execution_count": 92,
   "metadata": {},
   "outputs": [
    {
     "data": {
      "text/plain": [
       "dtype('float64')"
      ]
     },
     "execution_count": 92,
     "metadata": {},
     "output_type": "execute_result"
    }
   ],
   "source": [
    "dfs.Age.dtype"
   ]
  },
  {
   "cell_type": "code",
   "execution_count": 93,
   "metadata": {},
   "outputs": [],
   "source": [
    "i  = list(filter(lambda x : type(x)is not float, dfs.Age))"
   ]
  },
  {
   "cell_type": "code",
   "execution_count": 94,
   "metadata": {},
   "outputs": [
    {
     "data": {
      "text/plain": [
       "[]"
      ]
     },
     "execution_count": 94,
     "metadata": {},
     "output_type": "execute_result"
    }
   ],
   "source": [
    "i"
   ]
  },
  {
   "cell_type": "code",
   "execution_count": 95,
   "metadata": {},
   "outputs": [
    {
     "data": {
      "text/plain": [
       "Index(['who', 'Newbie', 'Age', 'Gender', 'Household Income (Numeric)',\n",
       "       'Household Income', 'Sexual Preference', 'Country',\n",
       "       'Education Attainment', 'Major Occupation', 'Marital Status',\n",
       "       'Years on Internet (numeric)', 'Years on Internet', 'Unnamed: 13'],\n",
       "      dtype='object')"
      ]
     },
     "execution_count": 95,
     "metadata": {},
     "output_type": "execute_result"
    }
   ],
   "source": [
    "df1.columns"
   ]
  },
  {
   "cell_type": "code",
   "execution_count": 96,
   "metadata": {},
   "outputs": [
    {
     "data": {
      "text/plain": [
       "Index(['who', 'Newbie', 'Age', 'Gender', 'Household Income (Numeric)',\n",
       "       'Household Income', 'Sexual Preference', 'Country',\n",
       "       'Education Attainment', 'Major Occupation', 'Marital Status',\n",
       "       'Years on Internet (numeric)', 'Years on Internet', 'Unnamed: 13'],\n",
       "      dtype='object')"
      ]
     },
     "execution_count": 96,
     "metadata": {},
     "output_type": "execute_result"
    }
   ],
   "source": [
    "dfs.columns"
   ]
  },
  {
   "cell_type": "code",
   "execution_count": 97,
   "metadata": {},
   "outputs": [
    {
     "data": {
      "text/plain": [
       "0    1149\n",
       "1     348\n",
       "Name: Newbie, dtype: int64"
      ]
     },
     "execution_count": 97,
     "metadata": {},
     "output_type": "execute_result"
    }
   ],
   "source": [
    "dfs['Newbie'].value_counts()"
   ]
  },
  {
   "cell_type": "code",
   "execution_count": 98,
   "metadata": {},
   "outputs": [],
   "source": [
    "from sklearn.preprocessing import OneHotEncoder\n",
    "one_hot=pd.get_dummies(dfs['Newbie'])\n"
   ]
  },
  {
   "cell_type": "code",
   "execution_count": 99,
   "metadata": {},
   "outputs": [
    {
     "name": "stderr",
     "output_type": "stream",
     "text": [
      "/usr/local/lib/python3.5/dist-packages/ipykernel_launcher.py:1: SettingWithCopyWarning: \n",
      "A value is trying to be set on a copy of a slice from a DataFrame\n",
      "\n",
      "See the caveats in the documentation: http://pandas.pydata.org/pandas-docs/stable/indexing.html#indexing-view-versus-copy\n",
      "  \"\"\"Entry point for launching an IPython kernel.\n"
     ]
    }
   ],
   "source": [
    "dfs.drop('Newbie',axis=1,inplace=True)"
   ]
  },
  {
   "cell_type": "code",
   "execution_count": 100,
   "metadata": {},
   "outputs": [
    {
     "data": {
      "text/plain": [
       "Index(['who', 'Age', 'Gender', 'Household Income (Numeric)',\n",
       "       'Household Income', 'Sexual Preference', 'Country',\n",
       "       'Education Attainment', 'Major Occupation', 'Marital Status',\n",
       "       'Years on Internet (numeric)', 'Years on Internet', 'Unnamed: 13'],\n",
       "      dtype='object')"
      ]
     },
     "execution_count": 100,
     "metadata": {},
     "output_type": "execute_result"
    }
   ],
   "source": [
    "dfs.columns"
   ]
  },
  {
   "cell_type": "code",
   "execution_count": 101,
   "metadata": {},
   "outputs": [],
   "source": [
    "dfs=dfs.join(one_hot)"
   ]
  },
  {
   "cell_type": "code",
   "execution_count": 102,
   "metadata": {},
   "outputs": [
    {
     "data": {
      "text/plain": [
       "Index([                        'who',                         'Age',\n",
       "                            'Gender',  'Household Income (Numeric)',\n",
       "                  'Household Income',           'Sexual Preference',\n",
       "                           'Country',        'Education Attainment',\n",
       "                  'Major Occupation',              'Marital Status',\n",
       "       'Years on Internet (numeric)',           'Years on Internet',\n",
       "                       'Unnamed: 13',                             0,\n",
       "                                   1],\n",
       "      dtype='object')"
      ]
     },
     "execution_count": 102,
     "metadata": {},
     "output_type": "execute_result"
    }
   ],
   "source": [
    "dfs.columns"
   ]
  },
  {
   "cell_type": "code",
   "execution_count": 103,
   "metadata": {},
   "outputs": [
    {
     "data": {
      "text/plain": [
       "array(['Single', 'Married', 'Other', 'Divorced', 'Separated', nan,\n",
       "       'Widowed'], dtype=object)"
      ]
     },
     "execution_count": 103,
     "metadata": {},
     "output_type": "execute_result"
    }
   ],
   "source": [
    "dfs[\"Marital Status\"].unique()"
   ]
  },
  {
   "cell_type": "code",
   "execution_count": 104,
   "metadata": {},
   "outputs": [],
   "source": [
    "dfM=dfs['Marital Status']\n"
   ]
  },
  {
   "cell_type": "code",
   "execution_count": 105,
   "metadata": {},
   "outputs": [
    {
     "data": {
      "text/plain": [
       "pandas.core.series.Series"
      ]
     },
     "execution_count": 105,
     "metadata": {},
     "output_type": "execute_result"
    }
   ],
   "source": [
    "type(dfM)"
   ]
  },
  {
   "cell_type": "code",
   "execution_count": 106,
   "metadata": {},
   "outputs": [],
   "source": [
    "sukumap = {'Single' : 'Single', 'Married' : 'Married', 'Other' : 'Other', 'Divorced' : 'Other' , 'Separated' : 'Other', \n",
    "       'Widowed' : 'Other'}"
   ]
  },
  {
   "cell_type": "code",
   "execution_count": 107,
   "metadata": {},
   "outputs": [],
   "source": [
    "dfs1 = dfs[\"Marital Status\"].map(sukumap)"
   ]
  },
  {
   "cell_type": "code",
   "execution_count": 108,
   "metadata": {},
   "outputs": [
    {
     "data": {
      "text/plain": [
       "Married    671\n",
       "Single     591\n",
       "Other      210\n",
       "Name: Marital Status, dtype: int64"
      ]
     },
     "execution_count": 108,
     "metadata": {},
     "output_type": "execute_result"
    }
   ],
   "source": [
    "dfs1.value_counts()"
   ]
  },
  {
   "cell_type": "code",
   "execution_count": 109,
   "metadata": {},
   "outputs": [],
   "source": [
    "dfs2 = dfs"
   ]
  },
  {
   "cell_type": "code",
   "execution_count": 110,
   "metadata": {},
   "outputs": [],
   "source": [
    "dfs[\"Marital Status\"] = dfs1"
   ]
  },
  {
   "cell_type": "code",
   "execution_count": 111,
   "metadata": {},
   "outputs": [],
   "source": [
    "dfs[\"Marital Status\"].fillna(\"Other\", inplace = True)"
   ]
  },
  {
   "cell_type": "code",
   "execution_count": 112,
   "metadata": {},
   "outputs": [
    {
     "data": {
      "text/plain": [
       "array(['Single', 'Married', 'Other'], dtype=object)"
      ]
     },
     "execution_count": 112,
     "metadata": {},
     "output_type": "execute_result"
    }
   ],
   "source": [
    "dfs[\"Marital Status\"].unique()"
   ]
  },
  {
   "cell_type": "code",
   "execution_count": 113,
   "metadata": {},
   "outputs": [
    {
     "data": {
      "text/plain": [
       "array(['Grammar', 'Some College', 'Doctoral', 'Masters', 'Special',\n",
       "       'College', 'Other', 'High School', 'Professional'], dtype=object)"
      ]
     },
     "execution_count": 113,
     "metadata": {},
     "output_type": "execute_result"
    }
   ],
   "source": [
    "dfs[\"Education Attainment\"].unique()"
   ]
  },
  {
   "cell_type": "code",
   "execution_count": 114,
   "metadata": {},
   "outputs": [],
   "source": [
    "m={'Grammar':'Other', 'Some College':'College', 'Doctoral':'Graduate Degree', 'Masters':'Graduate Degree', 'Special':'Other',\n",
    "       'College':'College', 'Other':'Other', 'High School':'High School', 'Professional':'Other'}"
   ]
  },
  {
   "cell_type": "code",
   "execution_count": 115,
   "metadata": {},
   "outputs": [],
   "source": [
    "dfs0 = dfs[\"Education Attainment\"].map(m)"
   ]
  },
  {
   "cell_type": "code",
   "execution_count": 116,
   "metadata": {},
   "outputs": [],
   "source": [
    "dfs[\"Education Attainment\"] = dfs0"
   ]
  },
  {
   "cell_type": "code",
   "execution_count": 117,
   "metadata": {},
   "outputs": [],
   "source": [
    "categorical_columns = ['Education Attainment', 'Marital Status']"
   ]
  },
  {
   "cell_type": "code",
   "execution_count": 118,
   "metadata": {},
   "outputs": [],
   "source": [
    "d1 = pd.get_dummies(dfs, columns = categorical_columns, dummy_na= True)"
   ]
  },
  {
   "cell_type": "code",
   "execution_count": 119,
   "metadata": {},
   "outputs": [
    {
     "data": {
      "text/plain": [
       "Index([                                 'who',\n",
       "                                        'Age',\n",
       "                                     'Gender',\n",
       "                 'Household Income (Numeric)',\n",
       "                           'Household Income',\n",
       "                          'Sexual Preference',\n",
       "                                    'Country',\n",
       "                           'Major Occupation',\n",
       "                'Years on Internet (numeric)',\n",
       "                          'Years on Internet',\n",
       "                                'Unnamed: 13',\n",
       "                                            0,\n",
       "                                            1,\n",
       "               'Education Attainment_College',\n",
       "       'Education Attainment_Graduate Degree',\n",
       "           'Education Attainment_High School',\n",
       "                 'Education Attainment_Other',\n",
       "                   'Education Attainment_nan',\n",
       "                     'Marital Status_Married',\n",
       "                       'Marital Status_Other',\n",
       "                      'Marital Status_Single',\n",
       "                         'Marital Status_nan'],\n",
       "      dtype='object')"
      ]
     },
     "execution_count": 119,
     "metadata": {},
     "output_type": "execute_result"
    }
   ],
   "source": [
    "d1.columns"
   ]
  },
  {
   "cell_type": "code",
   "execution_count": 120,
   "metadata": {},
   "outputs": [
    {
     "data": {
      "text/html": [
       "<div>\n",
       "<style scoped>\n",
       "    .dataframe tbody tr th:only-of-type {\n",
       "        vertical-align: middle;\n",
       "    }\n",
       "\n",
       "    .dataframe tbody tr th {\n",
       "        vertical-align: top;\n",
       "    }\n",
       "\n",
       "    .dataframe thead th {\n",
       "        text-align: right;\n",
       "    }\n",
       "</style>\n",
       "<table border=\"1\" class=\"dataframe\">\n",
       "  <thead>\n",
       "    <tr style=\"text-align: right;\">\n",
       "      <th></th>\n",
       "      <th>who</th>\n",
       "      <th>Age</th>\n",
       "      <th>Gender</th>\n",
       "      <th>Household Income (Numeric)</th>\n",
       "      <th>Household Income</th>\n",
       "      <th>Sexual Preference</th>\n",
       "      <th>Country</th>\n",
       "      <th>Major Occupation</th>\n",
       "      <th>Years on Internet (numeric)</th>\n",
       "      <th>Years on Internet</th>\n",
       "      <th>...</th>\n",
       "      <th>1</th>\n",
       "      <th>Education Attainment_College</th>\n",
       "      <th>Education Attainment_Graduate Degree</th>\n",
       "      <th>Education Attainment_High School</th>\n",
       "      <th>Education Attainment_Other</th>\n",
       "      <th>Education Attainment_nan</th>\n",
       "      <th>Marital Status_Married</th>\n",
       "      <th>Marital Status_Other</th>\n",
       "      <th>Marital Status_Single</th>\n",
       "      <th>Marital Status_nan</th>\n",
       "    </tr>\n",
       "  </thead>\n",
       "  <tbody>\n",
       "    <tr>\n",
       "      <th>5</th>\n",
       "      <td>id77190</td>\n",
       "      <td>16.0</td>\n",
       "      <td>Male</td>\n",
       "      <td>0</td>\n",
       "      <td>NaN</td>\n",
       "      <td>Heterosexual</td>\n",
       "      <td>New York</td>\n",
       "      <td>Education</td>\n",
       "      <td>3</td>\n",
       "      <td>1-3 yr</td>\n",
       "      <td>...</td>\n",
       "      <td>0</td>\n",
       "      <td>0</td>\n",
       "      <td>0</td>\n",
       "      <td>0</td>\n",
       "      <td>1</td>\n",
       "      <td>0</td>\n",
       "      <td>0</td>\n",
       "      <td>0</td>\n",
       "      <td>1</td>\n",
       "      <td>0</td>\n",
       "    </tr>\n",
       "    <tr>\n",
       "      <th>12</th>\n",
       "      <td>id87146</td>\n",
       "      <td>42.0</td>\n",
       "      <td>Male</td>\n",
       "      <td>6</td>\n",
       "      <td>$50-74</td>\n",
       "      <td>Heterosexual</td>\n",
       "      <td>Michigan</td>\n",
       "      <td>Management</td>\n",
       "      <td>2</td>\n",
       "      <td>6-12 mo</td>\n",
       "      <td>...</td>\n",
       "      <td>1</td>\n",
       "      <td>1</td>\n",
       "      <td>0</td>\n",
       "      <td>0</td>\n",
       "      <td>0</td>\n",
       "      <td>0</td>\n",
       "      <td>1</td>\n",
       "      <td>0</td>\n",
       "      <td>0</td>\n",
       "      <td>0</td>\n",
       "    </tr>\n",
       "    <tr>\n",
       "      <th>43</th>\n",
       "      <td>id84540</td>\n",
       "      <td>54.0</td>\n",
       "      <td>Female</td>\n",
       "      <td>7</td>\n",
       "      <td>$75-99</td>\n",
       "      <td>Heterosexual</td>\n",
       "      <td>New York</td>\n",
       "      <td>Education</td>\n",
       "      <td>3</td>\n",
       "      <td>1-3 yr</td>\n",
       "      <td>...</td>\n",
       "      <td>0</td>\n",
       "      <td>0</td>\n",
       "      <td>1</td>\n",
       "      <td>0</td>\n",
       "      <td>0</td>\n",
       "      <td>0</td>\n",
       "      <td>1</td>\n",
       "      <td>0</td>\n",
       "      <td>0</td>\n",
       "      <td>0</td>\n",
       "    </tr>\n",
       "    <tr>\n",
       "      <th>54</th>\n",
       "      <td>id85442</td>\n",
       "      <td>27.0</td>\n",
       "      <td>Male</td>\n",
       "      <td>3</td>\n",
       "      <td>$20-29</td>\n",
       "      <td>Heterosexual</td>\n",
       "      <td>Michigan</td>\n",
       "      <td>Management</td>\n",
       "      <td>5</td>\n",
       "      <td>Over 7 yr</td>\n",
       "      <td>...</td>\n",
       "      <td>0</td>\n",
       "      <td>0</td>\n",
       "      <td>1</td>\n",
       "      <td>0</td>\n",
       "      <td>0</td>\n",
       "      <td>0</td>\n",
       "      <td>0</td>\n",
       "      <td>0</td>\n",
       "      <td>1</td>\n",
       "      <td>0</td>\n",
       "    </tr>\n",
       "    <tr>\n",
       "      <th>81</th>\n",
       "      <td>id73540</td>\n",
       "      <td>35.0</td>\n",
       "      <td>Male</td>\n",
       "      <td>2</td>\n",
       "      <td>$10-19</td>\n",
       "      <td>Heterosexual</td>\n",
       "      <td>New York</td>\n",
       "      <td>Other</td>\n",
       "      <td>2</td>\n",
       "      <td>6-12 mo</td>\n",
       "      <td>...</td>\n",
       "      <td>1</td>\n",
       "      <td>0</td>\n",
       "      <td>0</td>\n",
       "      <td>0</td>\n",
       "      <td>1</td>\n",
       "      <td>0</td>\n",
       "      <td>0</td>\n",
       "      <td>1</td>\n",
       "      <td>0</td>\n",
       "      <td>0</td>\n",
       "    </tr>\n",
       "  </tbody>\n",
       "</table>\n",
       "<p>5 rows × 22 columns</p>\n",
       "</div>"
      ],
      "text/plain": [
       "        who   Age  Gender  Household Income (Numeric) Household Income  \\\n",
       "5   id77190  16.0    Male                           0              NaN   \n",
       "12  id87146  42.0    Male                           6           $50-74   \n",
       "43  id84540  54.0  Female                           7           $75-99   \n",
       "54  id85442  27.0    Male                           3           $20-29   \n",
       "81  id73540  35.0    Male                           2           $10-19   \n",
       "\n",
       "   Sexual Preference   Country Major Occupation  Years on Internet (numeric)  \\\n",
       "5       Heterosexual  New York        Education                            3   \n",
       "12      Heterosexual  Michigan       Management                            2   \n",
       "43      Heterosexual  New York        Education                            3   \n",
       "54      Heterosexual  Michigan       Management                            5   \n",
       "81      Heterosexual  New York            Other                            2   \n",
       "\n",
       "   Years on Internet         ...          1  Education Attainment_College  \\\n",
       "5             1-3 yr         ...          0                             0   \n",
       "12           6-12 mo         ...          1                             1   \n",
       "43            1-3 yr         ...          0                             0   \n",
       "54         Over 7 yr         ...          0                             0   \n",
       "81           6-12 mo         ...          1                             0   \n",
       "\n",
       "    Education Attainment_Graduate Degree  Education Attainment_High School  \\\n",
       "5                                      0                                 0   \n",
       "12                                     0                                 0   \n",
       "43                                     1                                 0   \n",
       "54                                     1                                 0   \n",
       "81                                     0                                 0   \n",
       "\n",
       "    Education Attainment_Other  Education Attainment_nan  \\\n",
       "5                            1                         0   \n",
       "12                           0                         0   \n",
       "43                           0                         0   \n",
       "54                           0                         0   \n",
       "81                           1                         0   \n",
       "\n",
       "    Marital Status_Married  Marital Status_Other  Marital Status_Single  \\\n",
       "5                        0                     0                      1   \n",
       "12                       1                     0                      0   \n",
       "43                       1                     0                      0   \n",
       "54                       0                     0                      1   \n",
       "81                       0                     1                      0   \n",
       "\n",
       "    Marital Status_nan  \n",
       "5                    0  \n",
       "12                   0  \n",
       "43                   0  \n",
       "54                   0  \n",
       "81                   0  \n",
       "\n",
       "[5 rows x 22 columns]"
      ]
     },
     "execution_count": 120,
     "metadata": {},
     "output_type": "execute_result"
    }
   ],
   "source": [
    "d1.head()"
   ]
  },
  {
   "cell_type": "code",
   "execution_count": 290,
   "metadata": {},
   "outputs": [],
   "source": [
    "final_df = d1.loc[:,['Age','Education Attainment_College','Education Attainment_Graduate Degree',\n",
    "           'Education Attainment_High School','Gender','Marital Status_Married',\n",
    "                      'Marital Status_Single','Years on Internet (numeric)','Household Income (Numeric)']]"
   ]
  },
  {
   "cell_type": "code",
   "execution_count": 122,
   "metadata": {},
   "outputs": [],
   "source": [
    "Train=final_df.drop(['Gender'],axis=1)"
   ]
  },
  {
   "cell_type": "code",
   "execution_count": 123,
   "metadata": {},
   "outputs": [
    {
     "data": {
      "text/html": [
       "<div>\n",
       "<style scoped>\n",
       "    .dataframe tbody tr th:only-of-type {\n",
       "        vertical-align: middle;\n",
       "    }\n",
       "\n",
       "    .dataframe tbody tr th {\n",
       "        vertical-align: top;\n",
       "    }\n",
       "\n",
       "    .dataframe thead th {\n",
       "        text-align: right;\n",
       "    }\n",
       "</style>\n",
       "<table border=\"1\" class=\"dataframe\">\n",
       "  <thead>\n",
       "    <tr style=\"text-align: right;\">\n",
       "      <th></th>\n",
       "      <th>Age</th>\n",
       "      <th>Education Attainment_College</th>\n",
       "      <th>Education Attainment_Graduate Degree</th>\n",
       "      <th>Education Attainment_High School</th>\n",
       "      <th>Marital Status_Married</th>\n",
       "      <th>Marital Status_Single</th>\n",
       "      <th>Years on Internet (numeric)</th>\n",
       "      <th>Household Income (Numeric)</th>\n",
       "    </tr>\n",
       "  </thead>\n",
       "  <tbody>\n",
       "    <tr>\n",
       "      <th>5</th>\n",
       "      <td>16.0</td>\n",
       "      <td>0</td>\n",
       "      <td>0</td>\n",
       "      <td>0</td>\n",
       "      <td>0</td>\n",
       "      <td>1</td>\n",
       "      <td>3</td>\n",
       "      <td>0</td>\n",
       "    </tr>\n",
       "    <tr>\n",
       "      <th>12</th>\n",
       "      <td>42.0</td>\n",
       "      <td>1</td>\n",
       "      <td>0</td>\n",
       "      <td>0</td>\n",
       "      <td>1</td>\n",
       "      <td>0</td>\n",
       "      <td>2</td>\n",
       "      <td>6</td>\n",
       "    </tr>\n",
       "    <tr>\n",
       "      <th>43</th>\n",
       "      <td>54.0</td>\n",
       "      <td>0</td>\n",
       "      <td>1</td>\n",
       "      <td>0</td>\n",
       "      <td>1</td>\n",
       "      <td>0</td>\n",
       "      <td>3</td>\n",
       "      <td>7</td>\n",
       "    </tr>\n",
       "    <tr>\n",
       "      <th>54</th>\n",
       "      <td>27.0</td>\n",
       "      <td>0</td>\n",
       "      <td>1</td>\n",
       "      <td>0</td>\n",
       "      <td>0</td>\n",
       "      <td>1</td>\n",
       "      <td>5</td>\n",
       "      <td>3</td>\n",
       "    </tr>\n",
       "    <tr>\n",
       "      <th>81</th>\n",
       "      <td>35.0</td>\n",
       "      <td>0</td>\n",
       "      <td>0</td>\n",
       "      <td>0</td>\n",
       "      <td>0</td>\n",
       "      <td>0</td>\n",
       "      <td>2</td>\n",
       "      <td>2</td>\n",
       "    </tr>\n",
       "  </tbody>\n",
       "</table>\n",
       "</div>"
      ],
      "text/plain": [
       "     Age  Education Attainment_College  Education Attainment_Graduate Degree  \\\n",
       "5   16.0                             0                                     0   \n",
       "12  42.0                             1                                     0   \n",
       "43  54.0                             0                                     1   \n",
       "54  27.0                             0                                     1   \n",
       "81  35.0                             0                                     0   \n",
       "\n",
       "    Education Attainment_High School  Marital Status_Married  \\\n",
       "5                                  0                       0   \n",
       "12                                 0                       1   \n",
       "43                                 0                       1   \n",
       "54                                 0                       0   \n",
       "81                                 0                       0   \n",
       "\n",
       "    Marital Status_Single  Years on Internet (numeric)  \\\n",
       "5                       1                            3   \n",
       "12                      0                            2   \n",
       "43                      0                            3   \n",
       "54                      1                            5   \n",
       "81                      0                            2   \n",
       "\n",
       "    Household Income (Numeric)  \n",
       "5                            0  \n",
       "12                           6  \n",
       "43                           7  \n",
       "54                           3  \n",
       "81                           2  "
      ]
     },
     "execution_count": 123,
     "metadata": {},
     "output_type": "execute_result"
    }
   ],
   "source": [
    "Train.head()"
   ]
  },
  {
   "cell_type": "code",
   "execution_count": 124,
   "metadata": {},
   "outputs": [],
   "source": [
    "Test = final_df['Gender']"
   ]
  },
  {
   "cell_type": "code",
   "execution_count": 125,
   "metadata": {},
   "outputs": [
    {
     "data": {
      "text/plain": [
       "Index(['Age', 'Education Attainment_College',\n",
       "       'Education Attainment_Graduate Degree',\n",
       "       'Education Attainment_High School', 'Marital Status_Married',\n",
       "       'Marital Status_Single', 'Years on Internet (numeric)',\n",
       "       'Household Income (Numeric)'],\n",
       "      dtype='object')"
      ]
     },
     "execution_count": 125,
     "metadata": {},
     "output_type": "execute_result"
    }
   ],
   "source": [
    "Train.columns"
   ]
  },
  {
   "cell_type": "code",
   "execution_count": 126,
   "metadata": {},
   "outputs": [],
   "source": [
    "from sklearn.cross_validation import train_test_split"
   ]
  },
  {
   "cell_type": "code",
   "execution_count": 127,
   "metadata": {},
   "outputs": [],
   "source": [
    "#X_train, X_test, Y_train, Y_test = train_test_split(Train, Test, test_size=0.30)"
   ]
  },
  {
   "cell_type": "code",
   "execution_count": 128,
   "metadata": {},
   "outputs": [],
   "source": [
    "from sklearn.model_selection import StratifiedShuffleSplit"
   ]
  },
  {
   "cell_type": "code",
   "execution_count": 129,
   "metadata": {},
   "outputs": [
    {
     "data": {
      "text/plain": [
       "Male      1007\n",
       "Female     490\n",
       "Name: Gender, dtype: int64"
      ]
     },
     "execution_count": 129,
     "metadata": {},
     "output_type": "execute_result"
    }
   ],
   "source": [
    "final_df.Gender.value_counts()"
   ]
  },
  {
   "cell_type": "code",
   "execution_count": 130,
   "metadata": {},
   "outputs": [],
   "source": [
    "from sklearn.model_selection import StratifiedShuffleSplit\n",
    "sss = StratifiedShuffleSplit(n_splits=3, test_size=0.3, random_state=0)"
   ]
  },
  {
   "cell_type": "code",
   "execution_count": 131,
   "metadata": {},
   "outputs": [],
   "source": [
    "from sklearn.linear_model import LogisticRegression\n",
    "from sklearn.model_selection import cross_val_score"
   ]
  },
  {
   "cell_type": "code",
   "execution_count": 132,
   "metadata": {},
   "outputs": [],
   "source": [
    "Lr = LogisticRegression()"
   ]
  },
  {
   "cell_type": "code",
   "execution_count": 133,
   "metadata": {},
   "outputs": [
    {
     "data": {
      "text/plain": [
       "35.02073255010366"
      ]
     },
     "execution_count": 133,
     "metadata": {},
     "output_type": "execute_result"
    }
   ],
   "source": [
    "Train.Age.mean()"
   ]
  },
  {
   "cell_type": "code",
   "execution_count": 134,
   "metadata": {},
   "outputs": [],
   "source": [
    "Train.Age.fillna(Train.Age.mean(), inplace=True)"
   ]
  },
  {
   "cell_type": "code",
   "execution_count": 135,
   "metadata": {},
   "outputs": [
    {
     "data": {
      "text/plain": [
       "0"
      ]
     },
     "execution_count": 135,
     "metadata": {},
     "output_type": "execute_result"
    }
   ],
   "source": [
    "sum(Train.Age.isna())"
   ]
  },
  {
   "cell_type": "code",
   "execution_count": 136,
   "metadata": {},
   "outputs": [],
   "source": [
    "scores = cross_val_score(Lr, Train, Test, cv=sss)"
   ]
  },
  {
   "cell_type": "code",
   "execution_count": 137,
   "metadata": {},
   "outputs": [
    {
     "name": "stdout",
     "output_type": "stream",
     "text": [
      "Accuracy: 0.70 (+/- 0.01)\n"
     ]
    }
   ],
   "source": [
    "print(\"Accuracy: %0.2f (+/- %0.2f)\" % (scores.mean(), scores.std() * 2))"
   ]
  },
  {
   "cell_type": "code",
   "execution_count": 138,
   "metadata": {},
   "outputs": [],
   "source": [
    "import seaborn as sns"
   ]
  },
  {
   "cell_type": "code",
   "execution_count": 139,
   "metadata": {},
   "outputs": [
    {
     "data": {
      "text/plain": [
       "Index(['Age', 'Education Attainment_College',\n",
       "       'Education Attainment_Graduate Degree',\n",
       "       'Education Attainment_High School', 'Gender', 'Marital Status_Married',\n",
       "       'Marital Status_Single', 'Years on Internet (numeric)',\n",
       "       'Household Income (Numeric)'],\n",
       "      dtype='object')"
      ]
     },
     "execution_count": 139,
     "metadata": {},
     "output_type": "execute_result"
    }
   ],
   "source": [
    "final_df.columns"
   ]
  },
  {
   "cell_type": "code",
   "execution_count": 140,
   "metadata": {},
   "outputs": [
    {
     "data": {
      "text/plain": [
       "<matplotlib.axes._subplots.AxesSubplot at 0x7f61d72269b0>"
      ]
     },
     "execution_count": 140,
     "metadata": {},
     "output_type": "execute_result"
    },
    {
     "data": {
      "image/png": "[encoded data removed]",
      "text/plain": [
       "<matplotlib.figure.Figure at 0x7f61d73c3470>"
      ]
     },
     "metadata": {},
     "output_type": "display_data"
    }
   ],
   "source": [
    "%matplotlib inline\n",
    "\n",
    "\n",
    "# calculate the correlation matrix\n",
    "corr = final_df.corr()\n",
    "\n",
    "# plot the heatmap\n",
    "sns.heatmap(corr, cmap='RdYlGn_r',\n",
    "        xticklabels=corr.columns,\n",
    "        yticklabels=corr.columns)"
   ]
  },
  {
   "cell_type": "code",
   "execution_count": 294,
   "metadata": {},
   "outputs": [],
   "source": [
    "from sklearn.preprocessing import LabelEncoder\n",
    "lbl = LabelEncoder()\n",
    "vf = lbl.fit_transform(final_df['Gender'])"
   ]
  },
  {
   "cell_type": "code",
   "execution_count": 295,
   "metadata": {},
   "outputs": [],
   "source": [
    "final_df['Gender'] = vf"
   ]
  },
  {
   "cell_type": "code",
   "execution_count": 143,
   "metadata": {},
   "outputs": [],
   "source": [
    "from sklearn.feature_selection import SelectKBest\n",
    "u=SelectKBest(k=3)"
   ]
  },
  {
   "cell_type": "code",
   "execution_count": 144,
   "metadata": {},
   "outputs": [
    {
     "data": {
      "text/plain": [
       "SelectKBest(k=3, score_func=<function f_classif at 0x7f61dc2876a8>)"
      ]
     },
     "execution_count": 144,
     "metadata": {},
     "output_type": "execute_result"
    }
   ],
   "source": [
    "u"
   ]
  },
  {
   "cell_type": "code",
   "execution_count": 145,
   "metadata": {},
   "outputs": [
    {
     "data": {
      "text/html": [
       "<div>\n",
       "<style scoped>\n",
       "    .dataframe tbody tr th:only-of-type {\n",
       "        vertical-align: middle;\n",
       "    }\n",
       "\n",
       "    .dataframe tbody tr th {\n",
       "        vertical-align: top;\n",
       "    }\n",
       "\n",
       "    .dataframe thead th {\n",
       "        text-align: right;\n",
       "    }\n",
       "</style>\n",
       "<table border=\"1\" class=\"dataframe\">\n",
       "  <thead>\n",
       "    <tr style=\"text-align: right;\">\n",
       "      <th></th>\n",
       "      <th>ANOVA F-value</th>\n",
       "    </tr>\n",
       "  </thead>\n",
       "  <tbody>\n",
       "    <tr>\n",
       "      <th>Years on Internet (numeric)</th>\n",
       "      <td>110.101289</td>\n",
       "    </tr>\n",
       "    <tr>\n",
       "      <th>Marital Status_Married</th>\n",
       "      <td>2.999781</td>\n",
       "    </tr>\n",
       "    <tr>\n",
       "      <th>Education Attainment_College</th>\n",
       "      <td>2.949670</td>\n",
       "    </tr>\n",
       "    <tr>\n",
       "      <th>Marital Status_Single</th>\n",
       "      <td>1.385224</td>\n",
       "    </tr>\n",
       "    <tr>\n",
       "      <th>Household Income (Numeric)</th>\n",
       "      <td>1.331649</td>\n",
       "    </tr>\n",
       "    <tr>\n",
       "      <th>Education Attainment_Graduate Degree</th>\n",
       "      <td>1.040111</td>\n",
       "    </tr>\n",
       "    <tr>\n",
       "      <th>Education Attainment_High School</th>\n",
       "      <td>0.469945</td>\n",
       "    </tr>\n",
       "    <tr>\n",
       "      <th>Age</th>\n",
       "      <td>0.433644</td>\n",
       "    </tr>\n",
       "  </tbody>\n",
       "</table>\n",
       "</div>"
      ],
      "text/plain": [
       "                                      ANOVA F-value\n",
       "Years on Internet (numeric)              110.101289\n",
       "Marital Status_Married                     2.999781\n",
       "Education Attainment_College               2.949670\n",
       "Marital Status_Single                      1.385224\n",
       "Household Income (Numeric)                 1.331649\n",
       "Education Attainment_Graduate Degree       1.040111\n",
       "Education Attainment_High School           0.469945\n",
       "Age                                        0.433644"
      ]
     },
     "execution_count": 145,
     "metadata": {},
     "output_type": "execute_result"
    }
   ],
   "source": [
    "model=u.fit(Train,Test)\n",
    "\n",
    "feature_and_score = pd.DataFrame(data=u.scores_, \n",
    "                                 index=Train.columns, \n",
    "                                 columns=['ANOVA F-value'])\n",
    "\n",
    "feature_and_score = feature_and_score.sort_values(by='ANOVA F-value', axis=0, ascending=False)\n",
    "\n",
    "feature_and_score"
   ]
  },
  {
   "cell_type": "code",
   "execution_count": 146,
   "metadata": {},
   "outputs": [
    {
     "data": {
      "text/plain": [
       "Text(0.5,1,'Correlation Coefficients All')"
      ]
     },
     "execution_count": 146,
     "metadata": {},
     "output_type": "execute_result"
    },
    {
     "data": {
      "image/png": "[encoded data removed]",
      "text/plain": [
       "<matplotlib.figure.Figure at 0x7f61d71d02e8>"
      ]
     },
     "metadata": {},
     "output_type": "display_data"
    }
   ],
   "source": [
    "# Let's start the visualization by having a look at the correlation coefficients\n",
    "import matplotlib.pyplot as plt\n",
    "plt.figure(figsize=(8,8))\n",
    "sns.heatmap(data=final_df.corr(), annot=True, cmap='viridis')\n",
    "plt.title('Correlation Coefficients All')"
   ]
  },
  {
   "cell_type": "code",
   "execution_count": 296,
   "metadata": {},
   "outputs": [],
   "source": [
    "final_df.head()\n",
    "final_df.apply(lambda x: sum(x.isnull()))\n",
    "final_df.Age.fillna(Train.Age.mean(), inplace=True)"
   ]
  },
  {
   "cell_type": "code",
   "execution_count": 297,
   "metadata": {},
   "outputs": [
    {
     "data": {
      "text/html": [
       "<div>\n",
       "<style scoped>\n",
       "    .dataframe tbody tr th:only-of-type {\n",
       "        vertical-align: middle;\n",
       "    }\n",
       "\n",
       "    .dataframe tbody tr th {\n",
       "        vertical-align: top;\n",
       "    }\n",
       "\n",
       "    .dataframe thead th {\n",
       "        text-align: right;\n",
       "    }\n",
       "</style>\n",
       "<table border=\"1\" class=\"dataframe\">\n",
       "  <thead>\n",
       "    <tr style=\"text-align: right;\">\n",
       "      <th></th>\n",
       "      <th>Age</th>\n",
       "      <th>Education Attainment_College</th>\n",
       "      <th>Education Attainment_Graduate Degree</th>\n",
       "      <th>Education Attainment_High School</th>\n",
       "      <th>Gender</th>\n",
       "      <th>Marital Status_Married</th>\n",
       "      <th>Marital Status_Single</th>\n",
       "      <th>Years on Internet (numeric)</th>\n",
       "      <th>Household Income (Numeric)</th>\n",
       "    </tr>\n",
       "  </thead>\n",
       "  <tbody>\n",
       "    <tr>\n",
       "      <th>5</th>\n",
       "      <td>16.0</td>\n",
       "      <td>0</td>\n",
       "      <td>0</td>\n",
       "      <td>0</td>\n",
       "      <td>1</td>\n",
       "      <td>0</td>\n",
       "      <td>1</td>\n",
       "      <td>3</td>\n",
       "      <td>0</td>\n",
       "    </tr>\n",
       "    <tr>\n",
       "      <th>12</th>\n",
       "      <td>42.0</td>\n",
       "      <td>1</td>\n",
       "      <td>0</td>\n",
       "      <td>0</td>\n",
       "      <td>1</td>\n",
       "      <td>1</td>\n",
       "      <td>0</td>\n",
       "      <td>2</td>\n",
       "      <td>6</td>\n",
       "    </tr>\n",
       "    <tr>\n",
       "      <th>43</th>\n",
       "      <td>54.0</td>\n",
       "      <td>0</td>\n",
       "      <td>1</td>\n",
       "      <td>0</td>\n",
       "      <td>0</td>\n",
       "      <td>1</td>\n",
       "      <td>0</td>\n",
       "      <td>3</td>\n",
       "      <td>7</td>\n",
       "    </tr>\n",
       "    <tr>\n",
       "      <th>54</th>\n",
       "      <td>27.0</td>\n",
       "      <td>0</td>\n",
       "      <td>1</td>\n",
       "      <td>0</td>\n",
       "      <td>1</td>\n",
       "      <td>0</td>\n",
       "      <td>1</td>\n",
       "      <td>5</td>\n",
       "      <td>3</td>\n",
       "    </tr>\n",
       "    <tr>\n",
       "      <th>81</th>\n",
       "      <td>35.0</td>\n",
       "      <td>0</td>\n",
       "      <td>0</td>\n",
       "      <td>0</td>\n",
       "      <td>1</td>\n",
       "      <td>0</td>\n",
       "      <td>0</td>\n",
       "      <td>2</td>\n",
       "      <td>2</td>\n",
       "    </tr>\n",
       "  </tbody>\n",
       "</table>\n",
       "</div>"
      ],
      "text/plain": [
       "     Age  Education Attainment_College  Education Attainment_Graduate Degree  \\\n",
       "5   16.0                             0                                     0   \n",
       "12  42.0                             1                                     0   \n",
       "43  54.0                             0                                     1   \n",
       "54  27.0                             0                                     1   \n",
       "81  35.0                             0                                     0   \n",
       "\n",
       "    Education Attainment_High School  Gender  Marital Status_Married  \\\n",
       "5                                  0       1                       0   \n",
       "12                                 0       1                       1   \n",
       "43                                 0       0                       1   \n",
       "54                                 0       1                       0   \n",
       "81                                 0       1                       0   \n",
       "\n",
       "    Marital Status_Single  Years on Internet (numeric)  \\\n",
       "5                       1                            3   \n",
       "12                      0                            2   \n",
       "43                      0                            3   \n",
       "54                      1                            5   \n",
       "81                      0                            2   \n",
       "\n",
       "    Household Income (Numeric)  \n",
       "5                            0  \n",
       "12                           6  \n",
       "43                           7  \n",
       "54                           3  \n",
       "81                           2  "
      ]
     },
     "execution_count": 297,
     "metadata": {},
     "output_type": "execute_result"
    }
   ],
   "source": [
    "final_df.head()"
   ]
  },
  {
   "cell_type": "code",
   "execution_count": 298,
   "metadata": {},
   "outputs": [
    {
     "data": {
      "text/plain": [
       "1    1007\n",
       "0     490\n",
       "Name: Gender, dtype: int64"
      ]
     },
     "execution_count": 298,
     "metadata": {},
     "output_type": "execute_result"
    }
   ],
   "source": [
    "final_df.Gender.value_counts()"
   ]
  },
  {
   "cell_type": "code",
   "execution_count": 299,
   "metadata": {},
   "outputs": [],
   "source": [
    "def data_prepration(x): # preparing data for training and testing as we are going to use different data \n",
    "    #again and again so make a function\n",
    "    x_features= x.ix[:,x.columns != \"Gender\"]\n",
    "    x_labels=x.ix[:,x.columns==\"Gender\"]\n",
    "    x_features_train,x_features_test,x_labels_train,x_labels_test = train_test_split(x_features,x_labels,test_size=0.3)\n",
    "    print(\"length of training data\")\n",
    "    print(len(x_features_train))\n",
    "    print(\"length of test data\")\n",
    "    print(len(x_features_test))\n",
    "    return(x_features_train,x_features_test,x_labels_train,x_labels_test)"
   ]
  },
  {
   "cell_type": "code",
   "execution_count": 300,
   "metadata": {},
   "outputs": [],
   "source": [
    "## first make a model function for modeling with confusion matrix\n",
    "from sklearn.metrics import *\n",
    "def model(model,features_train,features_test,labels_train,labels_test):\n",
    "    clf= model\n",
    "    clf.fit(features_train,labels_train.values.ravel())\n",
    "    pred=clf.predict(features_test)\n",
    "    cnf_matrix=confusion_matrix(labels_test,pred)\n",
    "    print(\"the recall for this model is :\",cnf_matrix[1,1]/(cnf_matrix[1,1]+cnf_matrix[1,0]))\n",
    "    print(\"the accuracy for this model is :\",(cnf_matrix[1,1]+cnf_matrix[0,0])/(cnf_matrix[1,1]+cnf_matrix[0,0]+cnf_matrix[0,1]+cnf_matrix[1,0]))\n",
    "    print(\"AUROC :\",roc_auc_score(labels_test,pred))\n",
    "    print(\"cohen kappa score:\",cohen_kappa_score(labels_test,pred))\n",
    "    fig= plt.figure(figsize=(6,3))# to plot the graph\n",
    "    print(\"TP\",cnf_matrix[1,1,]) # no of fraud transaction which are predicted fraud\n",
    "    print(\"TN\",cnf_matrix[0,0]) # no. of normal transaction which are predited normal\n",
    "    print(\"FP\",cnf_matrix[0,1]) # no of normal transaction which are predicted fraud\n",
    "    print(\"FN\",cnf_matrix[1,0]) # no of fraud Transaction which are predicted normal\n",
    "    sns.heatmap(cnf_matrix,cmap=\"coolwarm_r\",annot=True,linewidths=0.5)\n",
    "    plt.title(\"Confusion_matrix\")\n",
    "    plt.xlabel(\"Predicted_class\")\n",
    "    plt.ylabel(\"Real class\")\n",
    "    plt.show()\n",
    "    print(\"\\n----------Classification Report------------------------------------\")\n",
    "    print(classification_report(labels_test,pred))"
   ]
  },
  {
   "cell_type": "code",
   "execution_count": 278,
   "metadata": {},
   "outputs": [],
   "source": [
    "##########################################################################################\n",
    "#from sklearn.preprocessing import StandardScaler\n",
    "#X_train, X_test, Y_train, Y_test = train_test_split(Train, Test, test_size=0.30)\n",
    "#df_scaled = pd.DataFrame(scaler.fit_transform(df), columns=df.columns)\n",
    "#scaler = StandardScaler().fit(X_train)\n",
    "#X_train = scaler.transform(X_train) \n",
    "#X_test = scaler.transform(X_test) "
   ]
  },
  {
   "cell_type": "code",
   "execution_count": 301,
   "metadata": {},
   "outputs": [],
   "source": [
    "from imblearn.over_sampling import SMOTE"
   ]
  },
  {
   "cell_type": "code",
   "execution_count": 313,
   "metadata": {},
   "outputs": [
    {
     "data": {
      "text/html": [
       "<div>\n",
       "<style scoped>\n",
       "    .dataframe tbody tr th:only-of-type {\n",
       "        vertical-align: middle;\n",
       "    }\n",
       "\n",
       "    .dataframe tbody tr th {\n",
       "        vertical-align: top;\n",
       "    }\n",
       "\n",
       "    .dataframe thead th {\n",
       "        text-align: right;\n",
       "    }\n",
       "</style>\n",
       "<table border=\"1\" class=\"dataframe\">\n",
       "  <thead>\n",
       "    <tr style=\"text-align: right;\">\n",
       "      <th></th>\n",
       "      <th>Age</th>\n",
       "      <th>Education Attainment_College</th>\n",
       "      <th>Education Attainment_Graduate Degree</th>\n",
       "      <th>Education Attainment_High School</th>\n",
       "      <th>Gender</th>\n",
       "      <th>Marital Status_Married</th>\n",
       "      <th>Marital Status_Single</th>\n",
       "      <th>Years on Internet (numeric)</th>\n",
       "      <th>Household Income (Numeric)</th>\n",
       "    </tr>\n",
       "  </thead>\n",
       "  <tbody>\n",
       "    <tr>\n",
       "      <th>count</th>\n",
       "      <td>1497.000000</td>\n",
       "      <td>1497.000000</td>\n",
       "      <td>1497.000000</td>\n",
       "      <td>1497.000000</td>\n",
       "      <td>1497.000000</td>\n",
       "      <td>1497.000000</td>\n",
       "      <td>1497.000000</td>\n",
       "      <td>1497.000000</td>\n",
       "      <td>1497.000000</td>\n",
       "    </tr>\n",
       "    <tr>\n",
       "      <th>mean</th>\n",
       "      <td>0.377389</td>\n",
       "      <td>0.598530</td>\n",
       "      <td>0.213093</td>\n",
       "      <td>0.080828</td>\n",
       "      <td>0.672679</td>\n",
       "      <td>0.448230</td>\n",
       "      <td>0.394790</td>\n",
       "      <td>0.521543</td>\n",
       "      <td>0.534486</td>\n",
       "    </tr>\n",
       "    <tr>\n",
       "      <th>std</th>\n",
       "      <td>0.201178</td>\n",
       "      <td>0.490359</td>\n",
       "      <td>0.409630</td>\n",
       "      <td>0.272662</td>\n",
       "      <td>0.469392</td>\n",
       "      <td>0.497479</td>\n",
       "      <td>0.488969</td>\n",
       "      <td>0.269454</td>\n",
       "      <td>0.335252</td>\n",
       "    </tr>\n",
       "    <tr>\n",
       "      <th>min</th>\n",
       "      <td>0.000000</td>\n",
       "      <td>0.000000</td>\n",
       "      <td>0.000000</td>\n",
       "      <td>0.000000</td>\n",
       "      <td>0.000000</td>\n",
       "      <td>0.000000</td>\n",
       "      <td>0.000000</td>\n",
       "      <td>0.000000</td>\n",
       "      <td>0.000000</td>\n",
       "    </tr>\n",
       "    <tr>\n",
       "      <th>25%</th>\n",
       "      <td>0.229508</td>\n",
       "      <td>0.000000</td>\n",
       "      <td>0.000000</td>\n",
       "      <td>0.000000</td>\n",
       "      <td>0.000000</td>\n",
       "      <td>0.000000</td>\n",
       "      <td>0.000000</td>\n",
       "      <td>0.500000</td>\n",
       "      <td>0.250000</td>\n",
       "    </tr>\n",
       "    <tr>\n",
       "      <th>50%</th>\n",
       "      <td>0.360656</td>\n",
       "      <td>1.000000</td>\n",
       "      <td>0.000000</td>\n",
       "      <td>0.000000</td>\n",
       "      <td>1.000000</td>\n",
       "      <td>0.000000</td>\n",
       "      <td>0.000000</td>\n",
       "      <td>0.500000</td>\n",
       "      <td>0.625000</td>\n",
       "    </tr>\n",
       "    <tr>\n",
       "      <th>75%</th>\n",
       "      <td>0.524590</td>\n",
       "      <td>1.000000</td>\n",
       "      <td>0.000000</td>\n",
       "      <td>0.000000</td>\n",
       "      <td>1.000000</td>\n",
       "      <td>1.000000</td>\n",
       "      <td>1.000000</td>\n",
       "      <td>0.750000</td>\n",
       "      <td>0.750000</td>\n",
       "    </tr>\n",
       "    <tr>\n",
       "      <th>max</th>\n",
       "      <td>1.000000</td>\n",
       "      <td>1.000000</td>\n",
       "      <td>1.000000</td>\n",
       "      <td>1.000000</td>\n",
       "      <td>1.000000</td>\n",
       "      <td>1.000000</td>\n",
       "      <td>1.000000</td>\n",
       "      <td>1.000000</td>\n",
       "      <td>1.000000</td>\n",
       "    </tr>\n",
       "  </tbody>\n",
       "</table>\n",
       "</div>"
      ],
      "text/plain": [
       "               Age  Education Attainment_College  \\\n",
       "count  1497.000000                   1497.000000   \n",
       "mean      0.377389                      0.598530   \n",
       "std       0.201178                      0.490359   \n",
       "min       0.000000                      0.000000   \n",
       "25%       0.229508                      0.000000   \n",
       "50%       0.360656                      1.000000   \n",
       "75%       0.524590                      1.000000   \n",
       "max       1.000000                      1.000000   \n",
       "\n",
       "       Education Attainment_Graduate Degree  Education Attainment_High School  \\\n",
       "count                           1497.000000                       1497.000000   \n",
       "mean                               0.213093                          0.080828   \n",
       "std                                0.409630                          0.272662   \n",
       "min                                0.000000                          0.000000   \n",
       "25%                                0.000000                          0.000000   \n",
       "50%                                0.000000                          0.000000   \n",
       "75%                                0.000000                          0.000000   \n",
       "max                                1.000000                          1.000000   \n",
       "\n",
       "            Gender  Marital Status_Married  Marital Status_Single  \\\n",
       "count  1497.000000             1497.000000            1497.000000   \n",
       "mean      0.672679                0.448230               0.394790   \n",
       "std       0.469392                0.497479               0.488969   \n",
       "min       0.000000                0.000000               0.000000   \n",
       "25%       0.000000                0.000000               0.000000   \n",
       "50%       1.000000                0.000000               0.000000   \n",
       "75%       1.000000                1.000000               1.000000   \n",
       "max       1.000000                1.000000               1.000000   \n",
       "\n",
       "       Years on Internet (numeric)  Household Income (Numeric)  \n",
       "count                  1497.000000                 1497.000000  \n",
       "mean                      0.521543                    0.534486  \n",
       "std                       0.269454                    0.335252  \n",
       "min                       0.000000                    0.000000  \n",
       "25%                       0.500000                    0.250000  \n",
       "50%                       0.500000                    0.625000  \n",
       "75%                       0.750000                    0.750000  \n",
       "max                       1.000000                    1.000000  "
      ]
     },
     "execution_count": 313,
     "metadata": {},
     "output_type": "execute_result"
    }
   ],
   "source": [
    "final_df.describe()"
   ]
  },
  {
   "cell_type": "code",
   "execution_count": 310,
   "metadata": {},
   "outputs": [
    {
     "name": "stderr",
     "output_type": "stream",
     "text": [
      "/usr/local/lib/python3.5/dist-packages/ipykernel_launcher.py:4: FutureWarning: reshape is deprecated and will raise in a subsequent release. Please use .values.reshape(...) instead\n",
      "  after removing the cwd from sys.path.\n",
      "/usr/local/lib/python3.5/dist-packages/ipykernel_launcher.py:5: FutureWarning: reshape is deprecated and will raise in a subsequent release. Please use .values.reshape(...) instead\n",
      "  \"\"\"\n",
      "/usr/local/lib/python3.5/dist-packages/sklearn/utils/validation.py:475: DataConversionWarning: Data with input dtype int64 was converted to float64 by MinMaxScaler.\n",
      "  warnings.warn(msg, DataConversionWarning)\n",
      "/usr/local/lib/python3.5/dist-packages/ipykernel_launcher.py:6: FutureWarning: reshape is deprecated and will raise in a subsequent release. Please use .values.reshape(...) instead\n",
      "  \n"
     ]
    }
   ],
   "source": [
    "from sklearn.preprocessing import MinMaxScaler\n",
    "scaler = MinMaxScaler()\n",
    "final_df_scaled = final_df\n",
    "final_df_scaled[\"Age\"] = scaler.fit_transform(final_df_scaled['Age'].reshape(-1, 1))\n",
    "final_df_scaled[\"Years on Internet (numeric)\"] =scaler.fit_transform(final_df_scaled['Years on Internet (numeric)'].reshape(-1, 1))\n",
    "final_df_scaled[\"Household Income (Numeric)\"] = scaler.fit_transform(final_df_scaled['Household Income (Numeric)'].reshape(-1, 1))\n",
    "\n"
   ]
  },
  {
   "cell_type": "code",
   "execution_count": null,
   "metadata": {},
   "outputs": [],
   "source": []
  },
  {
   "cell_type": "code",
   "execution_count": 314,
   "metadata": {},
   "outputs": [
    {
     "name": "stdout",
     "output_type": "stream",
     "text": [
      "length of training data\n",
      "1047\n",
      "length of test data\n",
      "450\n",
      "length of oversampled data is  1416\n",
      "Number of Female in oversampled data 708\n",
      "No.of Male 708\n",
      "Proportion of Female in oversampled data is  0.5\n",
      "Proportion of Male in oversampled data is  0.5\n"
     ]
    },
    {
     "name": "stderr",
     "output_type": "stream",
     "text": [
      "/usr/local/lib/python3.5/dist-packages/sklearn/utils/validation.py:578: DataConversionWarning: A column-vector y was passed when a 1d array was expected. Please change the shape of y to (n_samples, ), for example using ravel().\n",
      "  y = column_or_1d(y, warn=True)\n"
     ]
    }
   ],
   "source": [
    "os = SMOTE(random_state=0) #   We are using SMOTE as the function for oversampling\n",
    "# now we can devided our data into training and test data\n",
    "# Call our method data prepration on our dataset\n",
    "data_train_X,data_test_X,data_train_y,data_test_y=data_prepration(final_df)\n",
    "columns = data_train_X.columns\n",
    "\n",
    "# now use SMOTE to oversample our train data which have features data_train_X and labels in data_train_y\n",
    "os_data_X,os_data_y=os.fit_sample(data_train_X,data_train_y)\n",
    "os_data_X = pd.DataFrame(data=os_data_X,columns=columns )\n",
    "os_data_y= pd.DataFrame(data=os_data_y,columns=[\"Gender\"])\n",
    "# we can Check the numbers of our data\n",
    "print(\"length of oversampled data is \",len(os_data_X))\n",
    "print(\"Number of Female in oversampled data\",len(os_data_y[os_data_y[\"Gender\"]==0]))\n",
    "print(\"No.of Male\",len(os_data_y[os_data_y[\"Gender\"]==1]))\n",
    "print(\"Proportion of Female in oversampled data is \",len(os_data_y[os_data_y[\"Gender\"]==0])/len(os_data_X))\n",
    "print(\"Proportion of Male in oversampled data is \",len(os_data_y[os_data_y[\"Gender\"]==1])/len(os_data_X))"
   ]
  },
  {
   "cell_type": "code",
   "execution_count": 315,
   "metadata": {},
   "outputs": [
    {
     "data": {
      "text/html": [
       "<div>\n",
       "<style scoped>\n",
       "    .dataframe tbody tr th:only-of-type {\n",
       "        vertical-align: middle;\n",
       "    }\n",
       "\n",
       "    .dataframe tbody tr th {\n",
       "        vertical-align: top;\n",
       "    }\n",
       "\n",
       "    .dataframe thead th {\n",
       "        text-align: right;\n",
       "    }\n",
       "</style>\n",
       "<table border=\"1\" class=\"dataframe\">\n",
       "  <thead>\n",
       "    <tr style=\"text-align: right;\">\n",
       "      <th></th>\n",
       "      <th>Age</th>\n",
       "      <th>Education Attainment_College</th>\n",
       "      <th>Education Attainment_Graduate Degree</th>\n",
       "      <th>Education Attainment_High School</th>\n",
       "      <th>Marital Status_Married</th>\n",
       "      <th>Marital Status_Single</th>\n",
       "      <th>Years on Internet (numeric)</th>\n",
       "      <th>Household Income (Numeric)</th>\n",
       "    </tr>\n",
       "  </thead>\n",
       "  <tbody>\n",
       "    <tr>\n",
       "      <th>0</th>\n",
       "      <td>0.327869</td>\n",
       "      <td>0.0</td>\n",
       "      <td>1.0</td>\n",
       "      <td>0.0</td>\n",
       "      <td>0.0</td>\n",
       "      <td>0.0</td>\n",
       "      <td>0.50</td>\n",
       "      <td>0.750</td>\n",
       "    </tr>\n",
       "    <tr>\n",
       "      <th>1</th>\n",
       "      <td>0.163934</td>\n",
       "      <td>1.0</td>\n",
       "      <td>0.0</td>\n",
       "      <td>0.0</td>\n",
       "      <td>0.0</td>\n",
       "      <td>1.0</td>\n",
       "      <td>0.75</td>\n",
       "      <td>0.000</td>\n",
       "    </tr>\n",
       "    <tr>\n",
       "      <th>2</th>\n",
       "      <td>0.295082</td>\n",
       "      <td>1.0</td>\n",
       "      <td>0.0</td>\n",
       "      <td>0.0</td>\n",
       "      <td>1.0</td>\n",
       "      <td>0.0</td>\n",
       "      <td>0.75</td>\n",
       "      <td>1.000</td>\n",
       "    </tr>\n",
       "    <tr>\n",
       "      <th>3</th>\n",
       "      <td>0.409836</td>\n",
       "      <td>1.0</td>\n",
       "      <td>0.0</td>\n",
       "      <td>0.0</td>\n",
       "      <td>0.0</td>\n",
       "      <td>0.0</td>\n",
       "      <td>0.50</td>\n",
       "      <td>0.375</td>\n",
       "    </tr>\n",
       "    <tr>\n",
       "      <th>4</th>\n",
       "      <td>0.180328</td>\n",
       "      <td>1.0</td>\n",
       "      <td>0.0</td>\n",
       "      <td>0.0</td>\n",
       "      <td>0.0</td>\n",
       "      <td>1.0</td>\n",
       "      <td>1.00</td>\n",
       "      <td>0.750</td>\n",
       "    </tr>\n",
       "  </tbody>\n",
       "</table>\n",
       "</div>"
      ],
      "text/plain": [
       "        Age  Education Attainment_College  \\\n",
       "0  0.327869                           0.0   \n",
       "1  0.163934                           1.0   \n",
       "2  0.295082                           1.0   \n",
       "3  0.409836                           1.0   \n",
       "4  0.180328                           1.0   \n",
       "\n",
       "   Education Attainment_Graduate Degree  Education Attainment_High School  \\\n",
       "0                                   1.0                               0.0   \n",
       "1                                   0.0                               0.0   \n",
       "2                                   0.0                               0.0   \n",
       "3                                   0.0                               0.0   \n",
       "4                                   0.0                               0.0   \n",
       "\n",
       "   Marital Status_Married  Marital Status_Single  Years on Internet (numeric)  \\\n",
       "0                     0.0                    0.0                         0.50   \n",
       "1                     0.0                    1.0                         0.75   \n",
       "2                     1.0                    0.0                         0.75   \n",
       "3                     0.0                    0.0                         0.50   \n",
       "4                     0.0                    1.0                         1.00   \n",
       "\n",
       "   Household Income (Numeric)  \n",
       "0                       0.750  \n",
       "1                       0.000  \n",
       "2                       1.000  \n",
       "3                       0.375  \n",
       "4                       0.750  "
      ]
     },
     "execution_count": 315,
     "metadata": {},
     "output_type": "execute_result"
    }
   ],
   "source": [
    "os_data_X.head()"
   ]
  },
  {
   "cell_type": "code",
   "execution_count": 316,
   "metadata": {},
   "outputs": [
    {
     "data": {
      "text/html": [
       "<div>\n",
       "<style scoped>\n",
       "    .dataframe tbody tr th:only-of-type {\n",
       "        vertical-align: middle;\n",
       "    }\n",
       "\n",
       "    .dataframe tbody tr th {\n",
       "        vertical-align: top;\n",
       "    }\n",
       "\n",
       "    .dataframe thead th {\n",
       "        text-align: right;\n",
       "    }\n",
       "</style>\n",
       "<table border=\"1\" class=\"dataframe\">\n",
       "  <thead>\n",
       "    <tr style=\"text-align: right;\">\n",
       "      <th></th>\n",
       "      <th>Gender</th>\n",
       "    </tr>\n",
       "  </thead>\n",
       "  <tbody>\n",
       "    <tr>\n",
       "      <th>0</th>\n",
       "      <td>1</td>\n",
       "    </tr>\n",
       "    <tr>\n",
       "      <th>1</th>\n",
       "      <td>1</td>\n",
       "    </tr>\n",
       "    <tr>\n",
       "      <th>2</th>\n",
       "      <td>0</td>\n",
       "    </tr>\n",
       "    <tr>\n",
       "      <th>3</th>\n",
       "      <td>0</td>\n",
       "    </tr>\n",
       "    <tr>\n",
       "      <th>4</th>\n",
       "      <td>1</td>\n",
       "    </tr>\n",
       "  </tbody>\n",
       "</table>\n",
       "</div>"
      ],
      "text/plain": [
       "   Gender\n",
       "0       1\n",
       "1       1\n",
       "2       0\n",
       "3       0\n",
       "4       1"
      ]
     },
     "execution_count": 316,
     "metadata": {},
     "output_type": "execute_result"
    }
   ],
   "source": [
    "os_data_y.head()"
   ]
  },
  {
   "cell_type": "code",
   "execution_count": 306,
   "metadata": {},
   "outputs": [
    {
     "name": "stdout",
     "output_type": "stream",
     "text": [
      "the recall for this model is : 0.7715231788079471\n",
      "the accuracy for this model is : 0.6266666666666667\n",
      "AUROC : 0.551302129944514\n",
      "cohen kappa score: 0.10819610248667011\n",
      "TP 233\n",
      "TN 49\n",
      "FP 99\n",
      "FN 69\n"
     ]
    },
    {
     "data": {
      "image/png": "[encoded data removed]",
      "text/plain": [
       "<matplotlib.figure.Figure at 0x7f61cf32fb38>"
      ]
     },
     "metadata": {},
     "output_type": "display_data"
    },
    {
     "name": "stdout",
     "output_type": "stream",
     "text": [
      "\n",
      "----------Classification Report------------------------------------\n",
      "             precision    recall  f1-score   support\n",
      "\n",
      "          0       0.42      0.33      0.37       148\n",
      "          1       0.70      0.77      0.74       302\n",
      "\n",
      "avg / total       0.61      0.63      0.61       450\n",
      "\n"
     ]
    }
   ],
   "source": [
    "from sklearn.ensemble import RandomForestClassifier\n",
    "# Now start modeling\n",
    "clf= RandomForestClassifier(n_estimators=100)\n",
    "# train data using oversampled data and predict for the test data\n",
    "model(clf,os_data_X,data_test_X,os_data_y,data_test_y)"
   ]
  },
  {
   "cell_type": "code",
   "execution_count": 307,
   "metadata": {},
   "outputs": [
    {
     "name": "stdout",
     "output_type": "stream",
     "text": [
      "the recall for this model is : 0.7615894039735099\n",
      "the accuracy for this model is : 0.6155555555555555\n",
      "AUROC : 0.5395784857705388\n",
      "cohen kappa score: 0.08331959588347504\n",
      "TP 230\n",
      "TN 47\n",
      "FP 101\n",
      "FN 72\n"
     ]
    },
    {
     "data": {
      "image/png": "[encoded data removed]",
      "text/plain": [
       "<matplotlib.figure.Figure at 0x7f61cf2d67b8>"
      ]
     },
     "metadata": {},
     "output_type": "display_data"
    },
    {
     "name": "stdout",
     "output_type": "stream",
     "text": [
      "\n",
      "----------Classification Report------------------------------------\n",
      "             precision    recall  f1-score   support\n",
      "\n",
      "          0       0.39      0.32      0.35       148\n",
      "          1       0.69      0.76      0.73       302\n",
      "\n",
      "avg / total       0.60      0.62      0.60       450\n",
      "\n"
     ]
    }
   ],
   "source": [
    "#data_train_X,data_test_X,data_train_y,data_test_y\n",
    "model(clf,data_train_X,data_test_X,data_train_y,data_test_y)"
   ]
  },
  {
   "cell_type": "code",
   "execution_count": 317,
   "metadata": {},
   "outputs": [
    {
     "name": "stdout",
     "output_type": "stream",
     "text": [
      "the recall for this model is : 0.6454849498327759\n",
      "the accuracy for this model is : 0.6466666666666666\n",
      "AUROC : 0.6472457861746661\n",
      "cohen kappa score: 0.2709543314788775\n",
      "TP 193\n",
      "TN 98\n",
      "FP 53\n",
      "FN 106\n"
     ]
    },
    {
     "data": {
      "image/png": "[encoded data removed]",
      "text/plain": [
       "<matplotlib.figure.Figure at 0x7f61cf6e1518>"
      ]
     },
     "metadata": {},
     "output_type": "display_data"
    },
    {
     "name": "stdout",
     "output_type": "stream",
     "text": [
      "\n",
      "----------Classification Report------------------------------------\n",
      "             precision    recall  f1-score   support\n",
      "\n",
      "          0       0.48      0.65      0.55       151\n",
      "          1       0.78      0.65      0.71       299\n",
      "\n",
      "avg / total       0.68      0.65      0.66       450\n",
      "\n",
      "the recall for this model is : 0.9130434782608695\n",
      "the accuracy for this model is : 0.6977777777777778\n",
      "AUROC : 0.5922833285344082\n",
      "cohen kappa score: 0.2140343667325919\n",
      "TP 273\n",
      "TN 41\n",
      "FP 110\n",
      "FN 26\n"
     ]
    },
    {
     "data": {
      "image/png": "[encoded data removed]",
      "text/plain": [
       "<matplotlib.figure.Figure at 0x7f61cf4fa438>"
      ]
     },
     "metadata": {},
     "output_type": "display_data"
    },
    {
     "name": "stdout",
     "output_type": "stream",
     "text": [
      "\n",
      "----------Classification Report------------------------------------\n",
      "             precision    recall  f1-score   support\n",
      "\n",
      "          0       0.61      0.27      0.38       151\n",
      "          1       0.71      0.91      0.80       299\n",
      "\n",
      "avg / total       0.68      0.70      0.66       450\n",
      "\n"
     ]
    }
   ],
   "source": [
    "clf2 = LogisticRegression()\n",
    "#SMOTE\n",
    "model(clf2,os_data_X,data_test_X,os_data_y,data_test_y)\n",
    "#Without SMOTE\n",
    "model(clf2,data_train_X,data_test_X,data_train_y,data_test_y)"
   ]
  },
  {
   "cell_type": "code",
   "execution_count": 309,
   "metadata": {},
   "outputs": [
    {
     "name": "stdout",
     "output_type": "stream",
     "text": [
      "the recall for this model is : 0.8410596026490066\n",
      "the accuracy for this model is : 0.68\n",
      "AUROC : 0.596205477000179\n",
      "cohen kappa score: 0.20975609756097569\n",
      "TP 254\n",
      "TN 52\n",
      "FP 96\n",
      "FN 48\n"
     ]
    },
    {
     "data": {
      "image/png": "[encoded data removed]",
      "text/plain": [
       "<matplotlib.figure.Figure at 0x7f61d4770978>"
      ]
     },
     "metadata": {},
     "output_type": "display_data"
    },
    {
     "name": "stdout",
     "output_type": "stream",
     "text": [
      "\n",
      "----------Classification Report------------------------------------\n",
      "             precision    recall  f1-score   support\n",
      "\n",
      "          0       0.52      0.35      0.42       148\n",
      "          1       0.73      0.84      0.78       302\n",
      "\n",
      "avg / total       0.66      0.68      0.66       450\n",
      "\n",
      "the recall for this model is : 0.8741721854304636\n",
      "the accuracy for this model is : 0.6644444444444444\n",
      "AUROC : 0.555329335958475\n",
      "cohen kappa score: 0.12707792708306564\n",
      "TP 264\n",
      "TN 35\n",
      "FP 113\n",
      "FN 38\n"
     ]
    },
    {
     "data": {
      "image/png": "[encoded data removed]",
      "text/plain": [
       "<matplotlib.figure.Figure at 0x7f61d4032d30>"
      ]
     },
     "metadata": {},
     "output_type": "display_data"
    },
    {
     "name": "stdout",
     "output_type": "stream",
     "text": [
      "\n",
      "----------Classification Report------------------------------------\n",
      "             precision    recall  f1-score   support\n",
      "\n",
      "          0       0.48      0.24      0.32       148\n",
      "          1       0.70      0.87      0.78       302\n",
      "\n",
      "avg / total       0.63      0.66      0.63       450\n",
      "\n"
     ]
    }
   ],
   "source": [
    "from sklearn.ensemble import GradientBoostingClassifier\n",
    "gl = GradientBoostingClassifier()\n",
    "#SMOTE\n",
    "model(gl,os_data_X,data_test_X,os_data_y,data_test_y)\n",
    "#Without SMOTE\n",
    "model(gl,data_train_X,data_test_X,data_train_y,data_test_y)"
   ]
  },
  {
   "cell_type": "code",
   "execution_count": null,
   "metadata": {},
   "outputs": [],
   "source": []
  }
 ],
 "metadata": {
  "kernelspec": {
   "display_name": "Python 3",
   "language": "python",
   "name": "python3"
  },
  "language_info": {
   "codemirror_mode": {
    "name": "ipython",
    "version": 3
   },
   "file_extension": ".py",
   "mimetype": "text/x-python",
   "name": "python",
   "nbconvert_exporter": "python",
   "pygments_lexer": "ipython3",
   "version": "3.5.2"
  }
 },
 "nbformat": 4,
 "nbformat_minor": 2
}
